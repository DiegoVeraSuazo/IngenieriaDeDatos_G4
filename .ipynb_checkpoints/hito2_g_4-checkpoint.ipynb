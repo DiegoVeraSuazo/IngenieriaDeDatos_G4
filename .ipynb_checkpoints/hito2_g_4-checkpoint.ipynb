{
 "cells": [
  {
   "cell_type": "markdown",
   "id": "83ba3847-579b-43a9-87d0-085127cd98e4",
   "metadata": {
    "id": "83ba3847-579b-43a9-87d0-085127cd98e4"
   },
   "source": [
    "# Hito 2: Clasificación\n",
    "\n",
    "ID-1\n",
    "\n",
    "Octubre 2022"
   ]
  },
  {
   "cell_type": "markdown",
   "id": "3e3e10a2-3626-4701-a78d-32c614f9d6a8",
   "metadata": {
    "id": "3e3e10a2-3626-4701-a78d-32c614f9d6a8"
   },
   "source": [
    "# Declaración de compromiso ético\n",
    "\n",
    "\n",
    "Nosotros **Kianush Atighi-Moghaddam, Arturo Avendaño, Alonso Rojas, Diego Vera**, declaramos que realizamos de manera grupal los pasos de la presente actividad. También declaramos no incurrir en copia, ni compartir nuestras respuestas con otras personas ni con otros grupos. Por lo que, ratificamos que las respuestas son de nuestra propia confección y reflejan nuestro propio conocimiento. También, declaramos conocer y aceptar las reglas de este tipo de actividad, que han sido explicadas y aclaradas por el cuerpo académico de la asignatura."
   ]
  },
  {
   "cell_type": "markdown",
   "id": "ce26c1b7-3234-4d20-9541-833773357bbb",
   "metadata": {
    "id": "ce26c1b7-3234-4d20-9541-833773357bbb"
   },
   "source": [
    "# Introducción: Plantear el problema y la motivación.\n",
    "\n",
    "### Cambio de enfoque.\n",
    "\n",
    "Tomando en cuenta el feedback del profesor se decidió abandonar la idea de predecir algún tipo de indicador de pobreza con los datos del censo, en vez de eso se tomó una alternativa más realista que consiste en responder preguntas relacionadas con la materialidad de las manzanas y la categorización de clases indeterminadas a base de atributos de materialidad, agua y otros sobre los que se realizarán pruebas para determinar cuáles son los más apropiados para realizar predicciones y responder a las interrogantes.\n",
    "### Propósito del análisis.\n",
    "\n",
    "El propósito de este desarrollo espera resolver la incertidumbre que se genera cada vez que se levantan los datos del CENSO, ya que, a veces, no es posible acceder a revisar el tipo de terreno o tipo de entidad, siendo estas estimadas o simplemente indeterminadas, ya sea por cansancio de los censistas o falta de permisos o disposición de los residentes. De esta manera, los datos para futuros estudios quedan inconclusos y/o con vacíos en la información, generando trabajo extra para los analistas de datos que deseen trabajar con esa información para realizar otros tipos de estudios.\n",
    "\n",
    "Para solucionar este problema es que se plantea la posibilidad de obtener la clase de la manzana, dígase el tipo de entidad (campo, pueblo, caserío, etc.) que esta representa para poder completar los datos para futuros análisis.\n",
    "\n",
    "A base de los datos obtenidos por el censo, entre los cuales se encuentra el acceso a agua potable y la materialidad de las casas dentro de la manzana, podría ser posible obtener tal información.\n",
    "\n",
    "### Mejoras del Hito 1\n",
    "\n",
    "Del análisis y retroalimentación explorada se reformularon tanto las preguntas y problemáticas planteadas en la instancia inicial, siendo una de las mayores diferencias el cambio de las preguntas que se basaban solo de respuestas de tipo si/no. Adicionalmente, se realizó el cambio a las columnas que tratan con el tipo de material con el que se encuentran construidos los hogares censados, compactándolos al concepto de sí los materiales con los que se encuentran construidos son aceptables, pobres o excelentes. Además de los cambios principales, se identificaron problemas técnicos con la detección de valores NA las cuales fueron modificadas y solucionadas, se eliminaron los análisis descriptivos que no agregan ningún tipo análisis o información satisfactoria, mejoras en cuanto a la redacción y ortografía empleada, revisiones de los argumentos empleados al momento de realizar cada respuesta y una mejora en cuanto a la ejecución del código que ha sido empleado."
   ]
  },
  {
   "cell_type": "markdown",
   "id": "XxIIR7ijsYTp",
   "metadata": {
    "id": "XxIIR7ijsYTp"
   },
   "source": [
    "# Exploración de los datos\n",
    "\n",
    "Dentro de esta fase se realizará una exploración de los datos ya avanzados del hito 1, los cuales ya se encuentran en un estado donde se realizó la limpieza, junto con un cambio de nombre de las variables para una mejora en la comprensión humana, además de las mejoras ya mencionadas con anterioridad, en cuanto a los cambios para el trabajo dentro del hito 2 se encuentra la eliminación de los datos que no son relevantes para la investigación.\n",
    "\n",
    "Contamos con 180 mil datos totales que corresponden al estudio, y 22 mil datos clasificados que serán divididos entre training y testing. Con ello se buscan las mejores variables para obtener precisión en la determinación de la clase.\n"
   ]
  },
  {
   "cell_type": "markdown",
   "id": "faf785df",
   "metadata": {
    "id": "faf785df"
   },
   "source": [
    "### Preparación del dataset\n",
    "Primero se decidió importar el dataset generado del hito 1 en una etapa temprana, ya que las columnas que son útiles ahora son distintas ya que en esta nueva instancia el dataset tiene mayor cantidad de datos."
   ]
  },
  {
   "cell_type": "code",
   "execution_count": null,
   "id": "82090ab9",
   "metadata": {
    "id": "82090ab9"
   },
   "outputs": [],
   "source": [
    "# Se realiza la inclusión de la librerias a utilizar.\n",
    "import pandas as pd\n",
    "import numpy as np\n",
    "from sklearn import preprocessing\n",
    "# Se Cargan los datos del dataset desde un repositorio en Github\n",
    "Censo_Filtrado = pd.read_csv('https://raw.githubusercontent.com/DiegoVeraSuazo/IngenieriaDeDatos_G4/main/resultado_hito1.csv') "
   ]
  },
  {
   "cell_type": "markdown",
   "id": "24b0a5a6-ee74-4611-b13e-c676cb5f9d19",
   "metadata": {
    "id": "24b0a5a6-ee74-4611-b13e-c676cb5f9d19"
   },
   "source": [
    "### Quitar columnas\n",
    "Algunas columnas no son relevantes para el presente análisis, esto incluye mayoritariamente datos demográficos y datos geográficos repetitivos.\n"
   ]
  },
  {
   "cell_type": "code",
   "execution_count": null,
   "id": "e32daf5c",
   "metadata": {
    "id": "e32daf5c"
   },
   "outputs": [],
   "source": [
    "# Se utiliza el método drop de la libreria pandas, para remover las columnas que no se van a utilizar\n",
    "Censo_Filtrado = Censo_Filtrado.drop([\"HOMBRES\", \"MUJERES\", \"CANT_HOG\", \"EDAD_0A5\", \"EDAD_6A14\", \"EDAD_15A64\", \"EDAD_65YMAS\",\n",
    "                   \"INMIGRANTES\", \"PUEBLO\", \"NOM_AREA\", \"NOM_LOCALIDAD\", \"NOM_ENTIDAD\",\n",
    "                   \"NOM_REGION_15R\", \"NOM_COMUNA_15R\", \"NOM_PROVINCIA_15R\", \"NOM_COMUNA\", \"NOM_PROVINCIA\"], axis=1)"
   ]
  },
  {
   "cell_type": "markdown",
   "id": "47135e5f",
   "metadata": {
    "id": "47135e5f"
   },
   "source": [
    "### Se genera un nuevo dato que corresponde al índice de materialidad de la manzana\n",
    "Se implementa la fórmula (MAT_ACEPTABLE + MAT_RECUPERABLE + MATIRREC) / (MAT_ACEPTABLE + 2 * MAT_RECUPERABLE + 4 * MATIRREC) para calcular un índice de materialidad, que entrega una idea general de los materiales de la manzana.\n"
   ]
  },
  {
   "cell_type": "code",
   "execution_count": null,
   "id": "85f282a4",
   "metadata": {
    "id": "85f282a4"
   },
   "outputs": [],
   "source": [
    "# Se realiza una copia de las Columnas MAT_ACEPTABLE, MAT_RECUPERABLE y MATIRREC para la realizar el calculo del Indice de Materialidad\n",
    "materialidad_Censo_Filtrado = Censo_Filtrado.iloc[:,[30,31,32]].copy()\n",
    "\n",
    "#Formula de materialidad\n",
    "indice_mat = (materialidad_Censo_Filtrado.iloc[:,0] + materialidad_Censo_Filtrado.iloc[:,1] + materialidad_Censo_Filtrado.iloc[:,2]) / (materialidad_Censo_Filtrado.iloc[:,0] + 2 * materialidad_Censo_Filtrado.iloc[:,1] + 4 * materialidad_Censo_Filtrado.iloc[:,2])\n",
    "materialidad_Censo_Filtrado['Indice_mat'] = indice_mat\n",
    "\n",
    "#Inclusión del Indice de Materialidad en el dataset original bajo la columna Indice_mat\n",
    "Censo_Filtrado['Indice_mat'] = indice_mat\n",
    "\n",
    "#Rellenado de celda con valor NaN a 0\n",
    "Censo_Filtrado = Censo_Filtrado.fillna(0)\n",
    "Censo_Filtrado = Censo_Filtrado.replace(np.nan, 0)"
   ]
  },
  {
   "cell_type": "markdown",
   "id": "c93a8e99",
   "metadata": {
    "id": "c93a8e99"
   },
   "source": [
    "### Normalización de variables para mejorar la precisión del modelo antes mencionado.\n",
    "Anteriormente se contaba con los valores sin normalizar,lo cual no presenta utilidad actualmente, pues se requiere analizar las manzanas independientes de su tamaño. Además tener los datos normalizados permitirá sumar los datos sin que la cantidad de casas afecte, por ejemplo no ocurrirá que la calidad de los materiales aparecerá mejor en Santiago solo porque Santiago tiene más casas."
   ]
  },
  {
   "cell_type": "code",
   "execution_count": null,
   "id": "62965271-a545-40d7-bd16-d2f479f0af76",
   "metadata": {
    "id": "62965271-a545-40d7-bd16-d2f479f0af76"
   },
   "outputs": [],
   "source": [
    "# Normalización de los Datos Relacionados con las viviendas\n",
    "Censo_Filtrado.iloc[:,1:4] = Censo_Filtrado.iloc[:,1:4].div(Censo_Filtrado.iloc[:,4], axis='index')\n",
    "Censo_Filtrado.iloc[:,5:33] = Censo_Filtrado.iloc[:,5:33].div(Censo_Filtrado.iloc[:,4], axis='index')\n",
    "\n",
    "# Normalización relacionada con el agua\n",
    "denominador = Censo_Filtrado.iloc[:,33:37].sum(axis=1)\n",
    "Censo_Filtrado.iloc[:,33:37] = Censo_Filtrado.iloc[:,33:37].div(denominador, axis='index')\n",
    "\n",
    "#Rellenado de celda con valor NaN a 0\n",
    "Censo_Filtrado = Censo_Filtrado.fillna(0)\n",
    "Censo_Filtrado = Censo_Filtrado.replace(np.nan, 0)"
   ]
  },
  {
   "cell_type": "markdown",
   "id": "43194fbe",
   "metadata": {
    "id": "43194fbe"
   },
   "source": [
    "### Se utiliza el método describe()\n",
    "Para verificar que la normalización fue usando el máximo indicado y ninguno de los valores normalizados supere 1.0\n",
    "\n"
   ]
  },
  {
   "cell_type": "code",
   "execution_count": null,
   "id": "1aAcNjfdA0c9",
   "metadata": {
    "colab": {
     "base_uri": "https://localhost:8080/",
     "height": 394
    },
    "id": "1aAcNjfdA0c9",
    "outputId": "a456bf7d-e632-4115-df69-c4e9dc4e8134"
   },
   "outputs": [],
   "source": [
    "# Uso del método describe de la libreria de pandas para observar el estado de los valores normalizados\n",
    "Censo_Filtrado.describe()"
   ]
  },
  {
   "cell_type": "markdown",
   "id": "zTgMLs5CAFAW",
   "metadata": {
    "id": "zTgMLs5CAFAW"
   },
   "source": [
    "### Visualización de datos\n",
    "\n",
    "Se realizaron varias matrices de correlación utilizando diferentes atributos para verificar las correlaciones, ya que la cantidad de atributos y de datos es muy alta, se decidió realizar varias matrices de correlación pequeñas, para ver si hay datos muy relacionados, de esta forma se revisa qué datos no deben ser combinados en un modelo de predicción o si se debería eliminar algunos atributos.\n",
    "\n",
    "Esta es la matriz que es representativa de la mayoría de matrices que fueron probadas, en conclusión los atributos de materiales de las viviendas están relacionados con la recuperabilidad, los tipos de vivienda no están relacionados con los demás tipos de atributos."
   ]
  },
  {
   "cell_type": "code",
   "execution_count": null,
   "id": "c2ac0cfa-0bc3-44ab-b940-3c96f393a406",
   "metadata": {
    "colab": {
     "base_uri": "https://localhost:8080/",
     "height": 478
    },
    "id": "c2ac0cfa-0bc3-44ab-b940-3c96f393a406",
    "outputId": "5d78e475-88ee-4b17-90d5-a5a40172ca53"
   },
   "outputs": [],
   "source": [
    "#Implementación de las librerias a utilizar para el realizado de una matriz de correlación\n",
    "import seaborn as sn\n",
    "import matplotlib.pyplot as plt\n",
    "\n",
    "# Se escogen las columnas a que seran parte del proceso de correlación\n",
    "corrMatrix_data = Censo_Filtrado.iloc[:,[31,32,8,15]]\n",
    "\n",
    "# Se realiza el calculo de correlación entre los valores dados para luego ser visualizados a traves del uso de un mapa de calor.\n",
    "corrMatrix = corrMatrix_data.corr()\n",
    "sn.heatmap(corrMatrix, annot=True)\n",
    "plt.show()"
   ]
  },
  {
   "cell_type": "markdown",
   "id": "Z5BA2vp6L8yd",
   "metadata": {
    "id": "Z5BA2vp6L8yd"
   },
   "source": [
    "De la correlación preliminarmente se obtiene una relación fuerte entre los tipos de materiales y el tipo de materialidad descrita en la manzana, lo cual es esperable leyendo el manual de uso del CENSO."
   ]
  },
  {
   "cell_type": "markdown",
   "id": "UzfxxNk0sFn4",
   "metadata": {
    "id": "UzfxxNk0sFn4"
   },
   "source": [
    "## Gráfico de BoxPlot sobre índice de materialidad ##\n",
    "\n",
    "Se utiliza un gráfico de boxplot para revisar la dispersión de los datos, se observa que el promedio es cercano al 0.9 por lo tanto la materialidad se acerca mucho a ser descrita como buena según el índice de materialidad."
   ]
  },
  {
   "cell_type": "code",
   "execution_count": null,
   "id": "O2B-mydGelGI",
   "metadata": {
    "colab": {
     "base_uri": "https://localhost:8080/",
     "height": 284
    },
    "id": "O2B-mydGelGI",
    "outputId": "d3373d75-521c-4d1e-88fa-8ab20131dca6"
   },
   "outputs": [],
   "source": [
    "# Visualización del indice de materialidad a traves de un boxplot realizado con el plot de la libreria de pandas\n",
    "Censo_Filtrado[\"Indice_mat\"].plot(kind='box')"
   ]
  },
  {
   "cell_type": "markdown",
   "id": "fc3y56ItMbwH",
   "metadata": {
    "id": "fc3y56ItMbwH"
   },
   "source": [
    "El índice de materialidad descrito concuerda con los datos, ya que nos muestra que cerca del 90% de las manzanas cuentan con materialidad aceptable."
   ]
  },
  {
   "cell_type": "markdown",
   "id": "_9TMRNGmBEXo",
   "metadata": {
    "id": "_9TMRNGmBEXo"
   },
   "source": [
    "### Distribución de viviendas\n",
    "Un atributo que podría ayudar a predecir la categoría de una manzana es su porcentaje de viviendas que son colectivas y las que no son. Sin embargo se puede observar que el número de viviendas colectivas registradas son muy pequeñas en comparación, por lo que habría muy pocos datos para que un clasificador usara este atributo como diferenciador."
   ]
  },
  {
   "cell_type": "code",
   "execution_count": null,
   "id": "def60c10-6e67-43c8-9dc2-21c98fdc875c",
   "metadata": {
    "colab": {
     "base_uri": "https://localhost:8080/",
     "height": 749
    },
    "id": "def60c10-6e67-43c8-9dc2-21c98fdc875c",
    "outputId": "6b647096-4905-4299-9f83-30916761500b"
   },
   "outputs": [],
   "source": [
    "import matplotlib.pyplot as plt\n",
    "\n",
    "# Se realiza una suma de todos los valores de la columnas con el proposito de observar las diferencias de los totales de cada columnas\n",
    "Censo_Filtrado_totales_plot = pd.DataFrame(Censo_Filtrado.sum(), columns=['Cantidad'])\n",
    "Censo_Filtrado_totales_plot['Tipo'] = Censo_Filtrado.columns.tolist()\n",
    "\n",
    "# Se realiza la visualización de los tipo de viviendas totales contabilizados dentro del Censo con el uso del Plot p\n",
    "plt_censo_total_viv = Censo_Filtrado_totales_plot.iloc[1:4,:].plot(kind = \"bar\", color = 'red', figsize = (10,10))\n",
    "plt.show()"
   ]
  },
  {
   "cell_type": "markdown",
   "id": "PaQcFZblBm9A",
   "metadata": {
    "id": "PaQcFZblBm9A"
   },
   "source": [
    "### Tipos de vivienda\n",
    "Se estima que el tipo de vivienda podría ayudar a predecir la categoría de la manzana, esto tiene sentido si se observa que en un campo o un pueblo pequeño es improbable que hayan departamentos, es decir hay tipos de vivienda que son más comunes en algunas categorías que en otras.\n",
    "\n",
    "Del gráfico de barras se observa que la mayoría de las viviendas en Chile son casas.Se cree que podrían existir casas en muchas categorías distintas sin embargo la distribución de las demás categorías es más pareja y podrían usarse para predecir la categoría de la manzana, por lo tanto se considerarán en la fase experimental."
   ]
  },
  {
   "cell_type": "code",
   "execution_count": null,
   "id": "887d0ca6-3a81-40b0-b068-83014fabda4a",
   "metadata": {
    "colab": {
     "base_uri": "https://localhost:8080/",
     "height": 863
    },
    "id": "887d0ca6-3a81-40b0-b068-83014fabda4a",
    "outputId": "b4137c8e-2e9d-46b5-aa65-7d6d0d721436"
   },
   "outputs": [],
   "source": [
    "# Se realiza una suma de todos los valores de las columnas con el propósito de observar las diferencias de los totales de cada columna\n",
    "Censo_Filtrado_totales_plot = pd.DataFrame(Censo_Filtrado.sum(), columns=['Cantidad'])\n",
    "Censo_Filtrado_totales_plot['Tipo'] = Censo_Filtrado.columns.tolist()\n",
    "\n",
    "# Se realiza la visualización de los tipos de viviendas totales contabilizados dentro del Censo con el uso del Plot propio de Pandas\n",
    "plt_censo_total_tipo_viv = Censo_Filtrado_totales_plot.iloc[5:12,:].plot.barh(y = \"Cantidad\", color='red', figsize=((30,15)))\n",
    "plt.show()"
   ]
  },
  {
   "cell_type": "markdown",
   "id": "3L8SIdsgLpjv",
   "metadata": {
    "id": "3L8SIdsgLpjv"
   },
   "source": [
    "Se observa que las viviendas de tipo casa se imponen sobre las otras con gran mayoría (alrededor del 80% de los datos)."
   ]
  },
  {
   "cell_type": "markdown",
   "id": "lDWaeV_HDyVn",
   "metadata": {
    "id": "lDWaeV_HDyVn"
   },
   "source": [
    "### Recuperabilidad de los materiales\n",
    "Gracias a las definiciones del manual del CENSO sabemos que existe una posible relación entre la recuperabilidad de los materiales y la categoría de la manzana, sabemos que por definición si una manzana contiene materiales de tierra es más probable que su condición de materialidad sea irrecuperable, se estima que tener pisos de tierra podría implicar que la manzana pertenece a ciertas categorías y no a otras por ejemplo es más probable que en una ciudad haya más pavimentación que en un campo y por lo tanto menos porcentaje de pisos de tierra."
   ]
  },
  {
   "cell_type": "code",
   "execution_count": null,
   "id": "0201ad85-6cf6-4d0d-b991-03f672fb4edf",
   "metadata": {
    "colab": {
     "base_uri": "https://localhost:8080/",
     "height": 320
    },
    "id": "0201ad85-6cf6-4d0d-b991-03f672fb4edf",
    "outputId": "18e8b8ae-4741-49d8-a4bf-2de2a639a013"
   },
   "outputs": [],
   "source": [
    "# Se realiza una suma de todos los valores de las columnas con el propósito de observar las diferencias de los totales de cada columna\n",
    "Censo_Filtrado_totales_plot = pd.DataFrame(Censo_Filtrado.sum(), columns=['Cantidad'])\n",
    "Censo_Filtrado_totales_plot['Tipo'] = Censo_Filtrado.columns.tolist()\n",
    "\n",
    "# Se realiza la visualización de la clasificación con respecto a la aceptabilidad de los materiales de construcción usados en los hogares que recibieron los hogares Censados, \n",
    "# esto a través del método Plot propio de Pandas\n",
    "plt_censo_total_rec_mat = Censo_Filtrado_totales_plot.iloc[30:33,:].plot.barh(y = \"Cantidad\", color='red', figsize=((30,5)))\n",
    "plt.show()"
   ]
  },
  {
   "cell_type": "markdown",
   "id": "vz9r03m-Les1",
   "metadata": {
    "id": "vz9r03m-Les1"
   },
   "source": [
    "Del gráfico de barras se desprende que la mayoría de las manzanas cuentan con una materialidad aceptable."
   ]
  },
  {
   "cell_type": "markdown",
   "id": "Jla5VDlCFVrf",
   "metadata": {
    "id": "Jla5VDlCFVrf"
   },
   "source": [
    "### Origen del agua\n",
    "Se cree que los atributos asociados al origen del agua pueden estar fuertemente asociados a la categoría de la manzana por el hecho de que si el origen del agua es vertiente o pozo podría ser un fuerte indicador de que la manzana es un campo o caserío."
   ]
  },
  {
   "cell_type": "code",
   "execution_count": null,
   "id": "1f23184d-6704-4476-9139-b578cf3e7fbd",
   "metadata": {
    "colab": {
     "base_uri": "https://localhost:8080/",
     "height": 592
    },
    "id": "1f23184d-6704-4476-9139-b578cf3e7fbd",
    "outputId": "7218a843-16b5-44de-ed9f-77b854c0470c"
   },
   "outputs": [],
   "source": [
    "Censo_Filtrado_totales_plot = pd.DataFrame(Censo_Filtrado.sum(), columns=['Cantidad'])\n",
    "Censo_Filtrado_totales_plot['Tipo'] = Censo_Filtrado.columns.tolist()\n",
    "\n",
    "# Se realiza una visualización del Origen de Agua de cada Manzana dentro del Censo  \n",
    "plt_censo_total_fuente_agua = Censo_Filtrado_totales_plot.iloc[33:37,:].plot.barh(y = \"Cantidad\", color='red', figsize=((30,10)))\n",
    "plt.show()"
   ]
  },
  {
   "cell_type": "markdown",
   "id": "jsg22uC0PsIh",
   "metadata": {
    "id": "jsg22uC0PsIh"
   },
   "source": [
    "Posteriormente se utiliza un gráfico tipo torta para representar de mejor manera el origen del agua en las distintas manzanas."
   ]
  },
  {
   "cell_type": "code",
   "execution_count": null,
   "id": "a2ef9203-e60a-4491-b58b-1948022f1b5b",
   "metadata": {
    "colab": {
     "base_uri": "https://localhost:8080/",
     "height": 303
    },
    "id": "a2ef9203-e60a-4491-b58b-1948022f1b5b",
    "outputId": "69efc9cc-0ab2-4eeb-b90e-a0107206fa77"
   },
   "outputs": [],
   "source": [
    "#Se suman los datos por columna\n",
    "Censo_Filtrado_totales_plot = pd.DataFrame(Censo_Filtrado.sum(), columns=['Cantidad'])\n",
    "Censo_Filtrado_totales_plot['Tipo'] = Censo_Filtrado.columns.tolist()\n",
    "myexplode = [0, 0.2, 0.4, 0.6]\n",
    "\n",
    "# Se visualiza los porcentajes de consumo de agua, tomando en consideración si el origen de esta \n",
    "plt_censo_total_fuente_agua = Censo_Filtrado_totales_plot.iloc[33:37,:].plot.pie(y=\"Cantidad\", figsize=((5,5)), autopct='%1.1f%%', startangle=0, explode = myexplode)\n",
    "plt.show()"
   ]
  },
  {
   "cell_type": "markdown",
   "id": "fdQUjTpbMwDf",
   "metadata": {
    "id": "fdQUjTpbMwDf"
   },
   "source": [
    "Del gráfico se obtiene una mejor visión de la distribución del origen del agua, de aquí se desprende que según los datos, la mayoría del agua provista a las manzanas viene de la red pública, aunque no indica si la calidad es rural o urbana."
   ]
  },
  {
   "cell_type": "markdown",
   "id": "7bab6aa0-94da-41bb-8972-2111e4fcbc40",
   "metadata": {
    "id": "7bab6aa0-94da-41bb-8972-2111e4fcbc40"
   },
   "source": [
    "# Preguntas y Problemas\n",
    "\n",
    "Una de las principales problemáticas a resolver se trata de un problema de clasificación en donde se busca determinar la posibilidad de predecir la clase, categoría de la manzana, o como se encuentra dentro del dataset el atributo NOM_CAT_ENT la cual se encuentra con varios de sus datos como INDETEMINADOS, lo cual permitiría mejorar la calidad de los datos existentes dentro del dataset. \n",
    "\n",
    "Otro problema que se quiere abordar es tratar de crear un índice que refleje la calidad de los materiales, esto lo hicimos en la etapa experimental y le llamamos INDICE_MAT.\n",
    "\n",
    "Por último se cree que con estos atributos elegidos es posible predecir otras clases en las que se clasifican las manzanas, por ejemplo si es rural o urbano, esto podría acelerar el proceso de censado del país.\n"
   ]
  },
  {
   "cell_type": "markdown",
   "id": "MyL1vuhB0oRr",
   "metadata": {
    "id": "MyL1vuhB0oRr"
   },
   "source": [
    "#Propuesta Experimental\n",
    "En esta sección se implementará la primera pregunta planteada que busca predecir la categoría de la manzana. Para ello lo que se hará es entrenar el subconjunto de datos que posea una categoría definida, para luego predecir la categoría de las filas las cuales poseen valor indeterminado de aquel atributo, siendo esta dentro del dataset la columna cuyo nombre es NOM_CAT_ENT, siendo más que nada un indicador que clasifica si la manzana en la que nos encontramos es un caserío, aldea, parcela, etc."
   ]
  },
  {
   "cell_type": "code",
   "execution_count": null,
   "id": "JwEAymr8lJfh",
   "metadata": {
    "id": "JwEAymr8lJfh"
   },
   "outputs": [],
   "source": [
    "#Se crea un subset modificando el original, eliminado 2 atributos.\n",
    "Censo_Filtrado_variables_significativas = Censo_Filtrado.iloc[:,0:-2]"
   ]
  },
  {
   "cell_type": "markdown",
   "id": "LiQfWdNk4jgY",
   "metadata": {
    "id": "LiQfWdNk4jgY"
   },
   "source": [
    "Se crea un subconjunto de manzanas que poseen categoría definida, luego se dividen en dos secciones, las que corresponden a la de datos (X) y la de clase (y). Es importante tener en cuenta que la proporción de manzanas con categoría indeterminada es mucho mayor a las que poseen categoría definida, lo que producirá un cierto sesgo en sus resultados."
   ]
  },
  {
   "cell_type": "code",
   "execution_count": null,
   "id": "f7977abe-ae3f-4aeb-a175-dfe70551f2a7",
   "metadata": {
    "id": "f7977abe-ae3f-4aeb-a175-dfe70551f2a7"
   },
   "outputs": [],
   "source": [
    "# Se realiza el filtro de todos las filas que poseen valores indeterminados\n",
    "Censo_Filtrado_sin_indeterminadas = Censo_Filtrado_variables_significativas.loc[Censo_Filtrado['NOM_CAT_ENT'] != \"Indeterminada\"]\n",
    "X = Censo_Filtrado_sin_indeterminadas.loc[:, Censo_Filtrado_sin_indeterminadas.columns != 'NOM_CAT_ENT'].values\n",
    "y = Censo_Filtrado_sin_indeterminadas['NOM_CAT_ENT'].values"
   ]
  },
  {
   "cell_type": "markdown",
   "id": "2NdhLnS45tYp",
   "metadata": {
    "id": "2NdhLnS45tYp"
   },
   "source": [
    "Luego se divide tal subconjunto en datos de entrenamiento y datos de prueba, de forma aleatoria y estratificada, utilizando una proporción de 70/30 respectivamente."
   ]
  },
  {
   "cell_type": "code",
   "execution_count": null,
   "id": "DHpvY96Fs1uV",
   "metadata": {
    "id": "DHpvY96Fs1uV"
   },
   "outputs": [],
   "source": [
    "#Se cargan las bibliotecas necesarias para crear un set de entrenamiento y testeo y posterior creación del modelo.\n",
    "from sklearn.model_selection import train_test_split\n",
    "from sklearn.tree import DecisionTreeClassifier\n",
    "from sklearn.metrics import classification_report\n",
    "from sklearn.metrics import accuracy_score\n",
    "\n",
    "# Creación de un set de entrenamiento y testeo con una proporción de 30% entrenamiento y 70% testeo\n",
    "X_train, X_test, y_train, y_test = train_test_split(X, y, test_size=.30,\n",
    "                                                    random_state=40, stratify=y)"
   ]
  },
  {
   "cell_type": "markdown",
   "id": "dP4c44np5_u6",
   "metadata": {
    "id": "dP4c44np5_u6"
   },
   "source": [
    "## Árbol de decisión\n",
    "\n",
    "Para entrenar los datos se van a utilizar dos modelos de clasificación que luego serán comparados respecto de su grado de precisión, por lo que el primer modelo corresponde al Árbol de Decisión. La ventaja que ofrece este algoritmo es su facilidad de implementación y comprensión. \n",
    "\n",
    "A partir del reporte de clasificación, se observa que las clases \"Aldea\", \"Parcela de Agrado\" y \"Parcela-Hijuela\" poseen un grado de precisión sobre el 50%."
   ]
  },
  {
   "cell_type": "code",
   "execution_count": null,
   "id": "1ZKQnsXUs4Zf",
   "metadata": {
    "colab": {
     "base_uri": "https://localhost:8080/"
    },
    "id": "1ZKQnsXUs4Zf",
    "outputId": "5d0826ee-515b-4a87-a6a8-e5a54ba21153"
   },
   "outputs": [],
   "source": [
    "clf_orig = DecisionTreeClassifier()\n",
    "clf_orig.fit(X_train, y_train)  ## Se entrena con features X_train y clases y_train\n",
    "y_pred = clf_orig.predict(X_test)  ## Se predicen con nuevos datos a partir de X_test\n",
    "print(\"Accuracy en test set:\", accuracy_score(y_test, y_pred))   ## Se evalúa la predicción comparando y_test con y_pred\n",
    "print(classification_report(y_test, y_pred))  #Se muestra el reporte de clasificación"
   ]
  },
  {
   "cell_type": "markdown",
   "id": "WvQ_hudnW_1h",
   "metadata": {
    "id": "WvQ_hudnW_1h"
   },
   "source": [
    "## KNN\n",
    "\n",
    "El segundo modelo a utilizar corresponde al KNN (K-vecinos más cercanos), la ventaja que ofrece este modelo es su mayor adaptabilidad a los nuevos datos sin requerir un entrenamiento.\n",
    "\n",
    "A partir del reporte de clasificación, se observa que el modelo KNN posee una precisión menor que el modelo de Árbol de Decisión, esto se debe a que el dataset del Censo está más orientado al uso de un árbol de decisión para determinar la categoría de una manzana, ya que este algoritmo se enfoca en clasificar en base a condiciones con cierto grado de pureza."
   ]
  },
  {
   "cell_type": "code",
   "execution_count": null,
   "id": "Ua8m44dPM7S6",
   "metadata": {
    "colab": {
     "base_uri": "https://localhost:8080/"
    },
    "id": "Ua8m44dPM7S6",
    "outputId": "25ce1a3e-00c2-41fc-9af7-a83c50d94ed5"
   },
   "outputs": [],
   "source": [
    "from sklearn.neighbors import KNeighborsClassifier\n",
    "\n",
    "clf_orig_knn = KNeighborsClassifier()\n",
    "clf_orig_knn.fit(X_train, y_train)  ## Se entrena con features X_train y clases y_train\n",
    "y_pred_knn = clf_orig_knn.predict(X_test)  ## Se predicen con nuevos datos a partir de X_test\n",
    "print(\"Accuracy en test set:\", accuracy_score(y_test, y_pred_knn))   ## Se evalúa la predicción comparando y_test con y_pred\n",
    "print(classification_report(y_test, y_pred_knn))  #Se muestra el reporte de clasificación"
   ]
  },
  {
   "cell_type": "markdown",
   "id": "DXOvZ3MhzXZ3",
   "metadata": {
    "id": "DXOvZ3MhzXZ3"
   },
   "source": [
    "Dentro de la predicción a realizar se va a utilizar la métrica de precisión ya que los datos que estamos buscando predecir no son críticos, no se trata de buscar los falsos positivos ni los falsos negativos. Solo se trata de encontrar la mayor asertividad dentro de la predicción."
   ]
  },
  {
   "cell_type": "markdown",
   "id": "OByq0dnfMzI5",
   "metadata": {
    "id": "OByq0dnfMzI5"
   },
   "source": [
    "## Resultados preliminares ##\n",
    "\n",
    "Se utilizará el modelo con mejores resultados para predecir la categoría de los datos indeterminados obteniendo así una primera pincelada de la eficacia del modelo."
   ]
  },
  {
   "cell_type": "code",
   "execution_count": null,
   "id": "if73-XiB-zVA",
   "metadata": {
    "id": "if73-XiB-zVA"
   },
   "outputs": [],
   "source": [
    "clase = \"NOM_CAT_ENT\"\n",
    "\n",
    "# Con el modelo entrenado se utilizan las filas con valores Indeterminados para realizar la predicción con el modelo entrenado\n",
    "Censo_Filtrado_con_indeterminadas = Censo_Filtrado_variables_significativas.loc[Censo_Filtrado[clase] == \"Indeterminada\"]\n",
    "X_indeterm = Censo_Filtrado_con_indeterminadas.loc[:, Censo_Filtrado_con_indeterminadas.columns != clase]\n",
    "X_indeterm_knn = X_indeterm\n",
    "y_pred_indeterm = clf_orig.predict(X_indeterm.values)\n",
    "y_pred_indeterm_knn = clf_orig_knn.predict(X_indeterm_knn.values)\n",
    "X_indeterm[\"NOM_CAT_ENT\"] = y_pred_indeterm\n",
    "X_indeterm_knn[\"NOM_CAT_ENT\"] = y_pred_indeterm_knn"
   ]
  },
  {
   "cell_type": "markdown",
   "id": "OZ71yaW1NJb0",
   "metadata": {
    "id": "OZ71yaW1NJb0"
   },
   "source": [
    "## Visualización de la categoría ##\n",
    "\n",
    "Se utiliza una visualización de tipo barra para comprobar la distribución de los datos predecidos por el modelo, de esta forma nos aseguramos que se asemeja al rendimiento esperado."
   ]
  },
  {
   "cell_type": "code",
   "execution_count": null,
   "id": "Vjxkb14UDUWl",
   "metadata": {
    "colab": {
     "base_uri": "https://localhost:8080/",
     "height": 696
    },
    "id": "Vjxkb14UDUWl",
    "outputId": "0317427c-cc3d-4a1b-f75d-6237f468b6b7"
   },
   "outputs": [],
   "source": [
    "# Visualización de la predicción realizada (Decision Tree)\n",
    "X_indeterm[\"NOM_CAT_ENT\"].value_counts().plot(kind='bar', figsize=(30,10), fontsize=20)"
   ]
  },
  {
   "cell_type": "code",
   "execution_count": null,
   "id": "CNPtgBNDhmel",
   "metadata": {
    "colab": {
     "base_uri": "https://localhost:8080/",
     "height": 696
    },
    "id": "CNPtgBNDhmel",
    "outputId": "bffb7142-5771-4bab-cbd5-5a751bef69dc"
   },
   "outputs": [],
   "source": [
    "# Visualización de la predicción realizada (KNN)\n",
    "X_indeterm_knn[\"NOM_CAT_ENT\"].value_counts().plot(kind='bar', figsize=(30,10), fontsize=20)"
   ]
  },
  {
   "cell_type": "markdown",
   "id": "LtEr6cMfjM1p",
   "metadata": {
    "id": "LtEr6cMfjM1p"
   },
   "source": [
    "Como se puede observar con la visualización realizada haciendo uso de los dos modelos trabajados(Decisión Tree y KNN), se puede observar que estos son comparables significando que aunque no sean 100% precisos entregan resultados los suficientemente cercanos para su utilización. "
   ]
  },
  {
   "cell_type": "markdown",
   "id": "EJayUfbBIMm1",
   "metadata": {
    "id": "EJayUfbBIMm1"
   },
   "source": [
    "## Conclusión \n",
    "En base al experimento realizado se observa que la capacidad de predicción del modelo en base a los atributos elegidos alcanza alrededor del 60%, lo cual indica que el modelo es favorable y cumple con acertar más del 50% de las predicciones. Al revisar la predicción de datos no controlados, se observa una tendencia a clasificar sectores rurales, lo cual tiene relevancia ya que es lógicamente probable que esas zonas de difícil acceso no hayan sido catalogadas, no así la ciudad la cual tiene menos incidencia según el modelo. Se considera que este experimento cumple las expectativas de un modelo que vale la pena seguir optimizando para posteriormente ser utilizado en el estudio del CENSO."
   ]
  },
  {
   "cell_type": "markdown",
   "id": "MCHnkf47RZXQ",
   "metadata": {
    "id": "MCHnkf47RZXQ"
   },
   "source": [
    "## Referencias ##\n"
   ]
  },
  {
   "cell_type": "markdown",
   "id": "qTGz7axmpA0c",
   "metadata": {
    "id": "qTGz7axmpA0c"
   },
   "source": [
    "https://redatam-ine.ine.cl/manuales/Manual-Usuario.pdf\n",
    "\n",
    "https://pandas.pydata.org/\n",
    "\n",
    "https://pandas.pydata.org/docs/reference/api/pandas.DataFrame.plot.html\n",
    "\n",
    "https://pandas.pydata.org/docs/reference/api/pandas.DataFrame.describe.html\n",
    "\n",
    "https://pandas.pydata.org/docs/reference/api/pandas.DataFrame.hist.html\n",
    "\n",
    "https://pandas.pydata.org/docs/reference/api/pandas.DataFrame.iloc.html\n",
    "\n",
    "https://pandas.pydata.org/docs/reference/api/pandas.DataFrame.plot.barh.html\n",
    "\n",
    "https://towardsdatascience.com/reshaping-a-pandas-dataframe-long-to-wide-and-vice-versa-517c7f0995ad#:~:text=To%20summarize%2C%20if%20you%20need,melt()%20.\n",
    "\n",
    "https://sparkbyexamples.com/pandas/pandas-set-index-to-column-in-dataframe/\n",
    "\n",
    "https://www.w3schools.com/python/matplotlib_pie_charts.asp\n",
    "\n",
    "https://www.w3schools.com/python/pandas/pandas_plotting.asp\n",
    "\n",
    "https://www.geeksforgeeks.org/change-figure-size-in-pandas-python/\n",
    "\n",
    "https://www.geeksforgeeks.org/adding-new-column-to-existing-dataframe-in-pandas/\n",
    "\n",
    "https://stackoverflow.com/questions/55240330/how-to-read-csv-file-from-github-using-pandas\n",
    "\n",
    "https://stackoverflow.com/questions/16459217/in-pandas-how-can-i-get-a-dataframe-as-the-output-while-i-sum-the-dataframe\n",
    "\n",
    "https://stackoverflow.com/questions/41286569/get-total-of-pandas-column\n",
    "\n",
    "https://stackoverflow.com/questions/61690632/why-pandas-dataframe-sumaxis-0-returns-sum-of-values-in-each-column-where-axis\n",
    "\n",
    "https://stackoverflow.com/questions/25748683/pandas-sum-dataframe-rows-for-given-columns\n",
    "\n",
    "https://stackoverflow.com/questions/56010449/selecting-columns-axes-for-correlation-from-pandas-df\n",
    "\n",
    "https://stackoverflow.com/questions/34682828/extracting-specific-selected-columns-to-new-dataframe-as-a-copy\n",
    "\n",
    "https://stackoverflow.com/questions/11285613/selecting-multiple-columns-in-a-pandas-dataframe\n",
    "\n",
    "https://stackoverflow.com/questions/26414913/normalize-columns-of-a-dataframe\n",
    "\n",
    "https://stackoverflow.com/questions/25050141/how-to-filter-in-nan-pandas\n",
    "\n",
    "https://stackoverflow.com/questions/14942681/change-size-of-axes-title-and-labels-in-ggplot2"
   ]
  },
  {
   "cell_type": "markdown",
   "id": "OtiySiJrNnDt",
   "metadata": {
    "id": "OtiySiJrNnDt"
   },
   "source": [
    "## Declaración de autoria ##\n",
    "\n",
    "Arturo Avendaño - Realización de PDF, conclusión, referencias, histograma de categoría, corrección de errores, introducción y preguntas de investigación, corrección de ortografía."
   ]
  },
  {
   "cell_type": "markdown",
   "id": "VJUZb98XOvGN",
   "metadata": {
    "id": "VJUZb98XOvGN"
   },
   "source": [
    "Alonso Rojas - Análisis exploratorio correctivo, normalización de datos, histogramas distribución fuente de agua, tipo de vivienda, ocupación de vivienda, redacción análisis graficos, redacción análisis exploratorio, KNN."
   ]
  },
  {
   "cell_type": "markdown",
   "id": "AGeU6a6KTNL-",
   "metadata": {
    "id": "AGeU6a6KTNL-"
   },
   "source": [
    "Kianush Atighi-Moghaddam - Índice de materialidad por manzana, propuesta experimental, árbol de decisión, resultados preliminares, gráfico de boxplot sobre índice de materialidad."
   ]
  },
  {
   "cell_type": "markdown",
   "id": "eNu4XmQa6YOX",
   "metadata": {
    "id": "eNu4XmQa6YOX"
   },
   "source": [
    "Diego Vera - Levantamiento del dataset en Git, Inicializado del ipynb, Introducción del Notebook ademas de las mejoras del Hito 1, Grafico de torta, configuración de los grafico con figsize y fontsize, y comentado del codigo."
   ]
  }
 ],
 "metadata": {
  "colab": {
   "collapsed_sections": [],
   "provenance": []
  },
  "kernelspec": {
   "display_name": "Python 3 (ipykernel)",
   "language": "python",
   "name": "python3"
  },
  "language_info": {
   "codemirror_mode": {
    "name": "ipython",
    "version": 3
   },
   "file_extension": ".py",
   "mimetype": "text/x-python",
   "name": "python",
   "nbconvert_exporter": "python",
   "pygments_lexer": "ipython3",
   "version": "3.10.5"
  }
 },
 "nbformat": 4,
 "nbformat_minor": 5
}
