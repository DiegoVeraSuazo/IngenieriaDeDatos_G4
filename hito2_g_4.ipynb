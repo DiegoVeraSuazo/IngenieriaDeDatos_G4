{
  "cells": [
    {
      "cell_type": "markdown",
      "metadata": {
        "id": "83ba3847-579b-43a9-87d0-085127cd98e4"
      },
      "source": [
        "# Hito 2: Clasificación\n",
        "\n",
        "ID-1\n",
        "\n",
        "Octubre 2022"
      ],
      "id": "83ba3847-579b-43a9-87d0-085127cd98e4"
    },
    {
      "cell_type": "markdown",
      "metadata": {
        "id": "3e3e10a2-3626-4701-a78d-32c614f9d6a8"
      },
      "source": [
        "# Declaración de compromiso ético\n",
        "\n",
        "\n",
        "Nosotros **Kianush Atighi-Moghaddam, Arturo Avendaño, Alonso Rojas, Diego Vera**, declaramos que realizamos de manera grupal los pasos de la presente actividad. También declaramos no incurrir en copia, ni compartir nuestras respuestas con otras personas ni con otros grupos. Por lo que, ratificamos que las respuestas son de nuestra propia confección y reflejan nuestro propio conocimiento. También, declaramos conocer y aceptar las reglas de este tipo de actividad, que han sido explicadas y aclaradas por el cuerpo académico de la asignatura."
      ],
      "id": "3e3e10a2-3626-4701-a78d-32c614f9d6a8"
    },
    {
      "cell_type": "markdown",
      "metadata": {
        "id": "ce26c1b7-3234-4d20-9541-833773357bbb"
      },
      "source": [
        "# Introducción: Plantear el problema y la motivación.\n",
        "\n",
        "### Cambio de enfoque.\n",
        "\n",
        "Tomando en cuenta el feedback del profesor decidimos abandonar la idea de predecir algún tipo de indicador de pobreza con los datos del censo, en vez de eso tomamos una alternativa más realista que es responder preguntas relacionadas con la materialidad de las manzanas y la categorización de clases indeterminadas a base de atributos de materialidad, agua y otros sobre los que realizaremos pruebas para determinar cuáles son los más apropiados para realizar predicciones y responder a nuestras interrogantes.\n",
        "### Propósito de nuestro analisis.\n",
        "\n",
        "El propósito de este desarrollo espera resolver la incertidumbre que se genera cada vez que se levantan los datos del CENSO, ya que, a veces, no es posible acceder a revisar el tipo de terreno o tipo de entidad, siendo estas estimadas o simplemente indeterminadas, ya sea por cansancio de los censistas o falta de permisos o disposición de los residentes. De esta manera, los datos para futuros estudios quedan inconclusos y/o con vacíos en la información, generando trabajo extra para los analistas de datos que deseen trabajar con esa información para realizar otros tipos de estudios.\n",
        "\n",
        "Para solucionar este problema es que se plantea la posibilidad de obtener la clase de la manzana, dígase el tipo de entidad (campo, pueblo, caserío, etc.) que esta representa para poder completar los datos para futuros análisis.\n",
        "\n",
        "A base de los datos obtenidos por el censo, entre los cuales se encuentra el acceso a agua potable y la materialidad de las casas dentro de la manzana, podría ser posible obtener tal información.\n",
        "\n",
        "### Mejoras del Hito 1\n",
        "\n",
        "Del análisis y retroalimentación explorada se reformularon tanto las preguntas y problemáticas planteadas en la instancia inicial, siendo una de las mayores diferencias el cambio de las preguntas que se basaban solo de respuestas de tipo si/no. Adicionalmente, se realizó el cambio a las columnas que tratan con el tipo de material con el que se encuentran construidos los hogares censados, compactándolos al concepto de sí los materiales con los que se encuentran construidos son aceptables, pobres o excelentes. Además de los cambios principales, se identificaron problemas técnicos con la detección de valores NA las cuales fueron modificadas y solucionadas, se eliminaron los análisis descriptivos que no agregan ningún tipo análisis o información satisfactoria, mejoras en cuanto a la redacción y ortografía empleada, revisiones de los argumentos empleados al momento de realizar cada respuesta y una mejora en cuanto a la ejecución del código que ha sido empleado."
      ],
      "id": "ce26c1b7-3234-4d20-9541-833773357bbb"
    },
    {
      "cell_type": "markdown",
      "metadata": {
        "id": "XxIIR7ijsYTp"
      },
      "source": [
        "# Exploración de los datos\n",
        "\n",
        "Dentro de esta fase se realizará una exploración de los datos ya avanzados del hito 1, los cuales ya se encuentran en un estado donde se realizó la limpieza, junto con un cambio de nombre de las variables para una mejora en la comprensión humana, además de las mejoras ya mencionadas con anterioridad, en cuanto a los cambios para el trabajo dentro del hito 2 se encuentra la eliminación de los datos que no son relevantes para la investigación.\n",
        "\n",
        "Contamos con 180 mil datos totales que corresponden al estudio, y 22 mil datos clasificados que serán divididos entre training y testing. Con ello se buscan las mejores variables para obtener precisión en la determinación de la clase.\n"
      ],
      "id": "XxIIR7ijsYTp"
    },
    {
      "cell_type": "markdown",
      "metadata": {
        "id": "faf785df"
      },
      "source": [
        "### Preparación del dataset\n",
        "Primero se decidió importar el dataset generado del hito 1 en una etapa temprana, ya que las columnas que son útiles ahora son distintas ya que en esta nueva instancia el dataset tiene mayor cantidad de datos."
      ],
      "id": "faf785df"
    },
    {
      "cell_type": "code",
      "execution_count": null,
      "metadata": {
        "id": "82090ab9"
      },
      "outputs": [],
      "source": [
        "# Se realiza la inclusión de la librerias a utilizar.\n",
        "import pandas as pd\n",
        "import numpy as np\n",
        "from sklearn import preprocessing\n",
        "# Se Cargan los datos del dataset desde un repositorio en Github\n",
        "Censo_Filtrado = pd.read_csv('https://raw.githubusercontent.com/DiegoVeraSuazo/IngenieriaDeDatos_G4/main/resultado_hito1.csv') "
      ],
      "id": "82090ab9"
    },
    {
      "cell_type": "markdown",
      "metadata": {
        "id": "24b0a5a6-ee74-4611-b13e-c676cb5f9d19"
      },
      "source": [
        "### Quitar columnas\n",
        "Algunas columnas no son relevantes para el presente análisis, esto incluye mayoritariamente datos demográficos y datos geográficos repetitivos.\n"
      ],
      "id": "24b0a5a6-ee74-4611-b13e-c676cb5f9d19"
    },
    {
      "cell_type": "code",
      "execution_count": null,
      "metadata": {
        "id": "e32daf5c"
      },
      "outputs": [],
      "source": [
        "# Se utiliza el método drop de la libreria pandas, para remover las columnas que no se van a utilizar\n",
        "Censo_Filtrado = Censo_Filtrado.drop([\"HOMBRES\", \"MUJERES\", \"CANT_HOG\", \"EDAD_0A5\", \"EDAD_6A14\", \"EDAD_15A64\", \"EDAD_65YMAS\",\n",
        "                   \"INMIGRANTES\", \"PUEBLO\", \"NOM_AREA\", \"NOM_LOCALIDAD\", \"NOM_ENTIDAD\",\n",
        "                   \"NOM_REGION_15R\", \"NOM_COMUNA_15R\", \"NOM_PROVINCIA_15R\", \"NOM_COMUNA\", \"NOM_PROVINCIA\"], axis=1)"
      ],
      "id": "e32daf5c"
    },
    {
      "cell_type": "markdown",
      "metadata": {
        "id": "47135e5f"
      },
      "source": [
        "### Se genera un nuevo dato que corresponde al índice de materialidad de la manzana\n",
        "Se implementa la fórmula (MAT_ACEPTABLE + MAT_RECUPERABLE + MATIRREC) / (MAT_ACEPTABLE + 2 * MAT_RECUPERABLE + 4 * MATIRREC) para calcular un índice de materialidad, que entrega una idea general de los materiales de la manzana.\n"
      ],
      "id": "47135e5f"
    },
    {
      "cell_type": "code",
      "execution_count": null,
      "metadata": {
        "id": "85f282a4"
      },
      "outputs": [],
      "source": [
        "# Se realiza una copia de las Columnas MAT_ACEPTABLE, MAT_RECUPERABLE y MATIRREC para la realizar el calculo del Indice de Materialidad\n",
        "materialidad_Censo_Filtrado = Censo_Filtrado.iloc[:,[30,31,32]].copy()\n",
        "\n",
        "#Formula de materialidad\n",
        "indice_mat = (materialidad_Censo_Filtrado.iloc[:,0] + materialidad_Censo_Filtrado.iloc[:,1] + materialidad_Censo_Filtrado.iloc[:,2]) / (materialidad_Censo_Filtrado.iloc[:,0] + 2 * materialidad_Censo_Filtrado.iloc[:,1] + 4 * materialidad_Censo_Filtrado.iloc[:,2])\n",
        "materialidad_Censo_Filtrado['Indice_mat'] = indice_mat\n",
        "\n",
        "#Inclusión del Indice de Materialidad en el dataset original bajo la columna Indice_mat\n",
        "Censo_Filtrado['Indice_mat'] = indice_mat\n",
        "\n",
        "#Rellenado de celda con valor NaN a 0\n",
        "Censo_Filtrado = Censo_Filtrado.fillna(0)\n",
        "Censo_Filtrado = Censo_Filtrado.replace(np.nan, 0)"
      ],
      "id": "85f282a4"
    },
    {
      "cell_type": "markdown",
      "metadata": {
        "id": "c93a8e99"
      },
      "source": [
        "### Normalización de variables para mejorar la precisión del modelo antes mencionado.\n",
        "Anteriormente se contaba con los valores sin normalizar,lo cual no presenta utilidad actualmente, pues se requiere analizar las manzanas independientes de su tamaño. Además tener los datos normalizados permitirá sumar los datos sin que la cantidad de casas afecte, por ejemplo no ocurrirá que la calidad de los materiales aparecerá mejor en Santiago solo porque Santiago tiene más casas."
      ],
      "id": "c93a8e99"
    },
    {
      "cell_type": "code",
      "execution_count": null,
      "metadata": {
        "id": "62965271-a545-40d7-bd16-d2f479f0af76"
      },
      "outputs": [],
      "source": [
        "# Normalización de los Datos Relacionados con las viviendas\n",
        "Censo_Filtrado.iloc[:,1:4] = Censo_Filtrado.iloc[:,1:4].div(Censo_Filtrado.iloc[:,4], axis='index')\n",
        "Censo_Filtrado.iloc[:,5:33] = Censo_Filtrado.iloc[:,5:33].div(Censo_Filtrado.iloc[:,4], axis='index')\n",
        "\n",
        "# Normalización relacionada con el agua\n",
        "denominador = Censo_Filtrado.iloc[:,33:37].sum(axis=1)\n",
        "Censo_Filtrado.iloc[:,33:37] = Censo_Filtrado.iloc[:,33:37].div(denominador, axis='index')\n",
        "\n",
        "#Rellenado de celda con valor NaN a 0\n",
        "Censo_Filtrado = Censo_Filtrado.fillna(0)\n",
        "Censo_Filtrado = Censo_Filtrado.replace(np.nan, 0)"
      ],
      "id": "62965271-a545-40d7-bd16-d2f479f0af76"
    },
    {
      "cell_type": "markdown",
      "metadata": {
        "id": "43194fbe"
      },
      "source": [
        "### Se utiliza el método describe()\n",
        "Para verificar que la normalización fue usando el máximo indicado y ninguno de los valores normalizados supere 1.0\n",
        "\n"
      ],
      "id": "43194fbe"
    },
    {
      "cell_type": "code",
      "execution_count": null,
      "metadata": {
        "colab": {
          "base_uri": "https://localhost:8080/",
          "height": 394
        },
        "id": "1aAcNjfdA0c9",
        "outputId": "34570dab-ee67-4d6f-ee12-690ac4789916"
      },
      "outputs": [
        {
          "output_type": "execute_result",
          "data": {
            "text/plain": [
              "            PERSONAS  VIVIENDA_PARTICULAR  VIVIENDA_COLECTIVA  \\\n",
              "count  180499.000000        180499.000000       180499.000000   \n",
              "mean       97.363437             0.993575            0.006414   \n",
              "std       149.647870             0.063840            0.063754   \n",
              "min         0.000000             0.000000            0.000000   \n",
              "25%        35.000000             1.000000            0.000000   \n",
              "50%        63.000000             1.000000            0.000000   \n",
              "75%       105.000000             1.000000            0.000000   \n",
              "max      9197.000000             1.000000            1.000000   \n",
              "\n",
              "       VIVIENDA_PARTICULAR_OCUPADA      TOTAL_VIV  TIPO_VIV_CASA  \\\n",
              "count                180499.000000  180499.000000  180499.000000   \n",
              "mean                      0.841845      36.007706       0.918312   \n",
              "std                       0.220091      61.678846       0.212909   \n",
              "min                       0.000000       0.000000       0.000000   \n",
              "25%                       0.811321      14.000000       0.952381   \n",
              "50%                       0.913043      22.000000       1.000000   \n",
              "75%                       0.976190      35.000000       1.000000   \n",
              "max                       1.000000    2575.000000       1.000000   \n",
              "\n",
              "       TIPO_VIV_DPTO  TIPO_VIV_TRADICIONAL  TIPO_VIV_CONVENTILLO  \\\n",
              "count  180499.000000         180499.000000         180499.000000   \n",
              "mean        0.040361              0.001219              0.006834   \n",
              "std         0.176561              0.030199              0.037512   \n",
              "min         0.000000              0.000000              0.000000   \n",
              "25%         0.000000              0.000000              0.000000   \n",
              "50%         0.000000              0.000000              0.000000   \n",
              "75%         0.000000              0.000000              0.000000   \n",
              "max         1.000000              1.000000              1.000000   \n",
              "\n",
              "       TIPO_VIV_MEDIAGUA  ...  MAT_PISO_CAPACEMENTO_SOBRE_TIERRA  \\\n",
              "count      180499.000000  ...                      180499.000000   \n",
              "mean            0.018586  ...                           0.016375   \n",
              "std             0.082779  ...                           0.047598   \n",
              "min             0.000000  ...                           0.000000   \n",
              "25%             0.000000  ...                           0.000000   \n",
              "50%             0.000000  ...                           0.000000   \n",
              "75%             0.000000  ...                           0.000000   \n",
              "max             1.000000  ...                           1.000000   \n",
              "\n",
              "       MAT_PISO_TIERRA  MAT_ACEPTABLE  MAT_RECUPERABLE       MATIRREC  \\\n",
              "count    180499.000000  180499.000000    180499.000000  180499.000000   \n",
              "mean          0.004615       0.667500         0.148452       0.016005   \n",
              "std           0.032893       0.263459         0.170003       0.059636   \n",
              "min           0.000000       0.000000         0.000000       0.000000   \n",
              "25%           0.000000       0.521739         0.000000       0.000000   \n",
              "50%           0.000000       0.733333         0.096774       0.000000   \n",
              "75%           0.000000       0.875000         0.230769       0.000000   \n",
              "max           1.000000       1.000000         1.000000       1.000000   \n",
              "\n",
              "       ORIGEN_AGUA_RED_PUBLICA  ORIGEN_AGUA_POZO  ORIGEN_AGUA_CAMION_ALJIBE  \\\n",
              "count            180499.000000     180499.000000              180499.000000   \n",
              "mean                  0.856893          0.059145                   0.020003   \n",
              "std                   0.329677          0.196568                   0.107223   \n",
              "min                   0.000000          0.000000                   0.000000   \n",
              "25%                   1.000000          0.000000                   0.000000   \n",
              "50%                   1.000000          0.000000                   0.000000   \n",
              "75%                   1.000000          0.000000                   0.000000   \n",
              "max                   1.000000          1.000000                   1.000000   \n",
              "\n",
              "       ORIGEN_AGUA_RIO_VERTIENTE_ESTERO_CANAL_LAGO     Indice_mat  \n",
              "count                                180499.000000  180499.000000  \n",
              "mean                                      0.027055       0.808500  \n",
              "std                                       0.133213       0.217958  \n",
              "min                                       0.000000       0.000000  \n",
              "25%                                       0.000000       0.720000  \n",
              "50%                                       0.000000       0.857143  \n",
              "75%                                       0.000000       0.989583  \n",
              "max                                       1.000000       1.000000  \n",
              "\n",
              "[8 rows x 38 columns]"
            ],
            "text/html": [
              "\n",
              "  <div id=\"df-05423f6c-80c8-4aec-9a8e-11f6508a1ef7\">\n",
              "    <div class=\"colab-df-container\">\n",
              "      <div>\n",
              "<style scoped>\n",
              "    .dataframe tbody tr th:only-of-type {\n",
              "        vertical-align: middle;\n",
              "    }\n",
              "\n",
              "    .dataframe tbody tr th {\n",
              "        vertical-align: top;\n",
              "    }\n",
              "\n",
              "    .dataframe thead th {\n",
              "        text-align: right;\n",
              "    }\n",
              "</style>\n",
              "<table border=\"1\" class=\"dataframe\">\n",
              "  <thead>\n",
              "    <tr style=\"text-align: right;\">\n",
              "      <th></th>\n",
              "      <th>PERSONAS</th>\n",
              "      <th>VIVIENDA_PARTICULAR</th>\n",
              "      <th>VIVIENDA_COLECTIVA</th>\n",
              "      <th>VIVIENDA_PARTICULAR_OCUPADA</th>\n",
              "      <th>TOTAL_VIV</th>\n",
              "      <th>TIPO_VIV_CASA</th>\n",
              "      <th>TIPO_VIV_DPTO</th>\n",
              "      <th>TIPO_VIV_TRADICIONAL</th>\n",
              "      <th>TIPO_VIV_CONVENTILLO</th>\n",
              "      <th>TIPO_VIV_MEDIAGUA</th>\n",
              "      <th>...</th>\n",
              "      <th>MAT_PISO_CAPACEMENTO_SOBRE_TIERRA</th>\n",
              "      <th>MAT_PISO_TIERRA</th>\n",
              "      <th>MAT_ACEPTABLE</th>\n",
              "      <th>MAT_RECUPERABLE</th>\n",
              "      <th>MATIRREC</th>\n",
              "      <th>ORIGEN_AGUA_RED_PUBLICA</th>\n",
              "      <th>ORIGEN_AGUA_POZO</th>\n",
              "      <th>ORIGEN_AGUA_CAMION_ALJIBE</th>\n",
              "      <th>ORIGEN_AGUA_RIO_VERTIENTE_ESTERO_CANAL_LAGO</th>\n",
              "      <th>Indice_mat</th>\n",
              "    </tr>\n",
              "  </thead>\n",
              "  <tbody>\n",
              "    <tr>\n",
              "      <th>count</th>\n",
              "      <td>180499.000000</td>\n",
              "      <td>180499.000000</td>\n",
              "      <td>180499.000000</td>\n",
              "      <td>180499.000000</td>\n",
              "      <td>180499.000000</td>\n",
              "      <td>180499.000000</td>\n",
              "      <td>180499.000000</td>\n",
              "      <td>180499.000000</td>\n",
              "      <td>180499.000000</td>\n",
              "      <td>180499.000000</td>\n",
              "      <td>...</td>\n",
              "      <td>180499.000000</td>\n",
              "      <td>180499.000000</td>\n",
              "      <td>180499.000000</td>\n",
              "      <td>180499.000000</td>\n",
              "      <td>180499.000000</td>\n",
              "      <td>180499.000000</td>\n",
              "      <td>180499.000000</td>\n",
              "      <td>180499.000000</td>\n",
              "      <td>180499.000000</td>\n",
              "      <td>180499.000000</td>\n",
              "    </tr>\n",
              "    <tr>\n",
              "      <th>mean</th>\n",
              "      <td>97.363437</td>\n",
              "      <td>0.993575</td>\n",
              "      <td>0.006414</td>\n",
              "      <td>0.841845</td>\n",
              "      <td>36.007706</td>\n",
              "      <td>0.918312</td>\n",
              "      <td>0.040361</td>\n",
              "      <td>0.001219</td>\n",
              "      <td>0.006834</td>\n",
              "      <td>0.018586</td>\n",
              "      <td>...</td>\n",
              "      <td>0.016375</td>\n",
              "      <td>0.004615</td>\n",
              "      <td>0.667500</td>\n",
              "      <td>0.148452</td>\n",
              "      <td>0.016005</td>\n",
              "      <td>0.856893</td>\n",
              "      <td>0.059145</td>\n",
              "      <td>0.020003</td>\n",
              "      <td>0.027055</td>\n",
              "      <td>0.808500</td>\n",
              "    </tr>\n",
              "    <tr>\n",
              "      <th>std</th>\n",
              "      <td>149.647870</td>\n",
              "      <td>0.063840</td>\n",
              "      <td>0.063754</td>\n",
              "      <td>0.220091</td>\n",
              "      <td>61.678846</td>\n",
              "      <td>0.212909</td>\n",
              "      <td>0.176561</td>\n",
              "      <td>0.030199</td>\n",
              "      <td>0.037512</td>\n",
              "      <td>0.082779</td>\n",
              "      <td>...</td>\n",
              "      <td>0.047598</td>\n",
              "      <td>0.032893</td>\n",
              "      <td>0.263459</td>\n",
              "      <td>0.170003</td>\n",
              "      <td>0.059636</td>\n",
              "      <td>0.329677</td>\n",
              "      <td>0.196568</td>\n",
              "      <td>0.107223</td>\n",
              "      <td>0.133213</td>\n",
              "      <td>0.217958</td>\n",
              "    </tr>\n",
              "    <tr>\n",
              "      <th>min</th>\n",
              "      <td>0.000000</td>\n",
              "      <td>0.000000</td>\n",
              "      <td>0.000000</td>\n",
              "      <td>0.000000</td>\n",
              "      <td>0.000000</td>\n",
              "      <td>0.000000</td>\n",
              "      <td>0.000000</td>\n",
              "      <td>0.000000</td>\n",
              "      <td>0.000000</td>\n",
              "      <td>0.000000</td>\n",
              "      <td>...</td>\n",
              "      <td>0.000000</td>\n",
              "      <td>0.000000</td>\n",
              "      <td>0.000000</td>\n",
              "      <td>0.000000</td>\n",
              "      <td>0.000000</td>\n",
              "      <td>0.000000</td>\n",
              "      <td>0.000000</td>\n",
              "      <td>0.000000</td>\n",
              "      <td>0.000000</td>\n",
              "      <td>0.000000</td>\n",
              "    </tr>\n",
              "    <tr>\n",
              "      <th>25%</th>\n",
              "      <td>35.000000</td>\n",
              "      <td>1.000000</td>\n",
              "      <td>0.000000</td>\n",
              "      <td>0.811321</td>\n",
              "      <td>14.000000</td>\n",
              "      <td>0.952381</td>\n",
              "      <td>0.000000</td>\n",
              "      <td>0.000000</td>\n",
              "      <td>0.000000</td>\n",
              "      <td>0.000000</td>\n",
              "      <td>...</td>\n",
              "      <td>0.000000</td>\n",
              "      <td>0.000000</td>\n",
              "      <td>0.521739</td>\n",
              "      <td>0.000000</td>\n",
              "      <td>0.000000</td>\n",
              "      <td>1.000000</td>\n",
              "      <td>0.000000</td>\n",
              "      <td>0.000000</td>\n",
              "      <td>0.000000</td>\n",
              "      <td>0.720000</td>\n",
              "    </tr>\n",
              "    <tr>\n",
              "      <th>50%</th>\n",
              "      <td>63.000000</td>\n",
              "      <td>1.000000</td>\n",
              "      <td>0.000000</td>\n",
              "      <td>0.913043</td>\n",
              "      <td>22.000000</td>\n",
              "      <td>1.000000</td>\n",
              "      <td>0.000000</td>\n",
              "      <td>0.000000</td>\n",
              "      <td>0.000000</td>\n",
              "      <td>0.000000</td>\n",
              "      <td>...</td>\n",
              "      <td>0.000000</td>\n",
              "      <td>0.000000</td>\n",
              "      <td>0.733333</td>\n",
              "      <td>0.096774</td>\n",
              "      <td>0.000000</td>\n",
              "      <td>1.000000</td>\n",
              "      <td>0.000000</td>\n",
              "      <td>0.000000</td>\n",
              "      <td>0.000000</td>\n",
              "      <td>0.857143</td>\n",
              "    </tr>\n",
              "    <tr>\n",
              "      <th>75%</th>\n",
              "      <td>105.000000</td>\n",
              "      <td>1.000000</td>\n",
              "      <td>0.000000</td>\n",
              "      <td>0.976190</td>\n",
              "      <td>35.000000</td>\n",
              "      <td>1.000000</td>\n",
              "      <td>0.000000</td>\n",
              "      <td>0.000000</td>\n",
              "      <td>0.000000</td>\n",
              "      <td>0.000000</td>\n",
              "      <td>...</td>\n",
              "      <td>0.000000</td>\n",
              "      <td>0.000000</td>\n",
              "      <td>0.875000</td>\n",
              "      <td>0.230769</td>\n",
              "      <td>0.000000</td>\n",
              "      <td>1.000000</td>\n",
              "      <td>0.000000</td>\n",
              "      <td>0.000000</td>\n",
              "      <td>0.000000</td>\n",
              "      <td>0.989583</td>\n",
              "    </tr>\n",
              "    <tr>\n",
              "      <th>max</th>\n",
              "      <td>9197.000000</td>\n",
              "      <td>1.000000</td>\n",
              "      <td>1.000000</td>\n",
              "      <td>1.000000</td>\n",
              "      <td>2575.000000</td>\n",
              "      <td>1.000000</td>\n",
              "      <td>1.000000</td>\n",
              "      <td>1.000000</td>\n",
              "      <td>1.000000</td>\n",
              "      <td>1.000000</td>\n",
              "      <td>...</td>\n",
              "      <td>1.000000</td>\n",
              "      <td>1.000000</td>\n",
              "      <td>1.000000</td>\n",
              "      <td>1.000000</td>\n",
              "      <td>1.000000</td>\n",
              "      <td>1.000000</td>\n",
              "      <td>1.000000</td>\n",
              "      <td>1.000000</td>\n",
              "      <td>1.000000</td>\n",
              "      <td>1.000000</td>\n",
              "    </tr>\n",
              "  </tbody>\n",
              "</table>\n",
              "<p>8 rows × 38 columns</p>\n",
              "</div>\n",
              "      <button class=\"colab-df-convert\" onclick=\"convertToInteractive('df-05423f6c-80c8-4aec-9a8e-11f6508a1ef7')\"\n",
              "              title=\"Convert this dataframe to an interactive table.\"\n",
              "              style=\"display:none;\">\n",
              "        \n",
              "  <svg xmlns=\"http://www.w3.org/2000/svg\" height=\"24px\"viewBox=\"0 0 24 24\"\n",
              "       width=\"24px\">\n",
              "    <path d=\"M0 0h24v24H0V0z\" fill=\"none\"/>\n",
              "    <path d=\"M18.56 5.44l.94 2.06.94-2.06 2.06-.94-2.06-.94-.94-2.06-.94 2.06-2.06.94zm-11 1L8.5 8.5l.94-2.06 2.06-.94-2.06-.94L8.5 2.5l-.94 2.06-2.06.94zm10 10l.94 2.06.94-2.06 2.06-.94-2.06-.94-.94-2.06-.94 2.06-2.06.94z\"/><path d=\"M17.41 7.96l-1.37-1.37c-.4-.4-.92-.59-1.43-.59-.52 0-1.04.2-1.43.59L10.3 9.45l-7.72 7.72c-.78.78-.78 2.05 0 2.83L4 21.41c.39.39.9.59 1.41.59.51 0 1.02-.2 1.41-.59l7.78-7.78 2.81-2.81c.8-.78.8-2.07 0-2.86zM5.41 20L4 18.59l7.72-7.72 1.47 1.35L5.41 20z\"/>\n",
              "  </svg>\n",
              "      </button>\n",
              "      \n",
              "  <style>\n",
              "    .colab-df-container {\n",
              "      display:flex;\n",
              "      flex-wrap:wrap;\n",
              "      gap: 12px;\n",
              "    }\n",
              "\n",
              "    .colab-df-convert {\n",
              "      background-color: #E8F0FE;\n",
              "      border: none;\n",
              "      border-radius: 50%;\n",
              "      cursor: pointer;\n",
              "      display: none;\n",
              "      fill: #1967D2;\n",
              "      height: 32px;\n",
              "      padding: 0 0 0 0;\n",
              "      width: 32px;\n",
              "    }\n",
              "\n",
              "    .colab-df-convert:hover {\n",
              "      background-color: #E2EBFA;\n",
              "      box-shadow: 0px 1px 2px rgba(60, 64, 67, 0.3), 0px 1px 3px 1px rgba(60, 64, 67, 0.15);\n",
              "      fill: #174EA6;\n",
              "    }\n",
              "\n",
              "    [theme=dark] .colab-df-convert {\n",
              "      background-color: #3B4455;\n",
              "      fill: #D2E3FC;\n",
              "    }\n",
              "\n",
              "    [theme=dark] .colab-df-convert:hover {\n",
              "      background-color: #434B5C;\n",
              "      box-shadow: 0px 1px 3px 1px rgba(0, 0, 0, 0.15);\n",
              "      filter: drop-shadow(0px 1px 2px rgba(0, 0, 0, 0.3));\n",
              "      fill: #FFFFFF;\n",
              "    }\n",
              "  </style>\n",
              "\n",
              "      <script>\n",
              "        const buttonEl =\n",
              "          document.querySelector('#df-05423f6c-80c8-4aec-9a8e-11f6508a1ef7 button.colab-df-convert');\n",
              "        buttonEl.style.display =\n",
              "          google.colab.kernel.accessAllowed ? 'block' : 'none';\n",
              "\n",
              "        async function convertToInteractive(key) {\n",
              "          const element = document.querySelector('#df-05423f6c-80c8-4aec-9a8e-11f6508a1ef7');\n",
              "          const dataTable =\n",
              "            await google.colab.kernel.invokeFunction('convertToInteractive',\n",
              "                                                     [key], {});\n",
              "          if (!dataTable) return;\n",
              "\n",
              "          const docLinkHtml = 'Like what you see? Visit the ' +\n",
              "            '<a target=\"_blank\" href=https://colab.research.google.com/notebooks/data_table.ipynb>data table notebook</a>'\n",
              "            + ' to learn more about interactive tables.';\n",
              "          element.innerHTML = '';\n",
              "          dataTable['output_type'] = 'display_data';\n",
              "          await google.colab.output.renderOutput(dataTable, element);\n",
              "          const docLink = document.createElement('div');\n",
              "          docLink.innerHTML = docLinkHtml;\n",
              "          element.appendChild(docLink);\n",
              "        }\n",
              "      </script>\n",
              "    </div>\n",
              "  </div>\n",
              "  "
            ]
          },
          "metadata": {},
          "execution_count": 5
        }
      ],
      "source": [
        "# Uso del método describe de la libreria de pandas para observar el estado de los valores normalizados\n",
        "Censo_Filtrado.describe()"
      ],
      "id": "1aAcNjfdA0c9"
    },
    {
      "cell_type": "markdown",
      "metadata": {
        "id": "zTgMLs5CAFAW"
      },
      "source": [
        "### Visualización de datos\n",
        "\n",
        "Se realizaron varias matrices de correlación utilizando diferentes atributos para verificar las correlaciones, ya que la cantidad de atributos y de datos es muy alta, se decidió realizar varias matrices de correlación pequeñas, para ver si hay datos muy relacionados, de esta forma se revisa qué datos no deben ser combinados en un modelo de predicción o si se debería eliminar algunos atributos.\n",
        "\n",
        "Esta es la matriz que es representativa de la mayoría de matrices que fueron probadas, en conclusión los atributos de materiales de las viviendas están relacionados con la recuperabilidad, los tipos de vivienda no están relacionados con los demás tipos de atributos."
      ],
      "id": "zTgMLs5CAFAW"
    },
    {
      "cell_type": "code",
      "execution_count": null,
      "metadata": {
        "colab": {
          "base_uri": "https://localhost:8080/",
          "height": 478
        },
        "id": "c2ac0cfa-0bc3-44ab-b940-3c96f393a406",
        "outputId": "5c271fa3-9f0b-4172-ccac-06afb30e3f78"
      },
      "outputs": [
        {
          "output_type": "display_data",
          "data": {
            "text/plain": [
              "<Figure size 432x288 with 2 Axes>"
            ],
            "image/png": "[encoded data removed]"
          },
          "metadata": {
            "needs_background": "light"
          }
        }
      ],
      "source": [
        "#Implementación de las librerias a utilizar para el realizado de una matriz de correlación\n",
        "import seaborn as sn\n",
        "import matplotlib.pyplot as plt\n",
        "\n",
        "# Se escogen las columnas a que seran parte del proceso de correlación\n",
        "corrMatrix_data = Censo_Filtrado.iloc[:,[31,32,8,15]]\n",
        "\n",
        "# Se realiza el calculo de correlación entre los valores dados para luego ser visualizados a traves del uso de un mapa de calor.\n",
        "corrMatrix = corrMatrix_data.corr()\n",
        "sn.heatmap(corrMatrix, annot=True)\n",
        "plt.show()"
      ],
      "id": "c2ac0cfa-0bc3-44ab-b940-3c96f393a406"
    },
    {
      "cell_type": "markdown",
      "source": [
        "De la correlación preliminarmente se obtiene una relación fuerte entre los tipos de materiales y el tipo de materialidad descrita en la manzana, lo cual es esperable leyendo el manual de uso del CENSO."
      ],
      "metadata": {
        "id": "Z5BA2vp6L8yd"
      },
      "id": "Z5BA2vp6L8yd"
    },
    {
      "cell_type": "markdown",
      "metadata": {
        "id": "UzfxxNk0sFn4"
      },
      "source": [
        "## Gráfico de BoxPlot sobre índice de materialidad ##\n",
        "\n",
        "Se utiliza un gráfico de boxplot para revisar la dispersión de los datos, se observa que el promedio es cercano al 0.9 por lo tanto la materialidad se acerca mucho a ser descrita como buena según el índice de materialidad."
      ],
      "id": "UzfxxNk0sFn4"
    },
    {
      "cell_type": "code",
      "execution_count": null,
      "metadata": {
        "colab": {
          "base_uri": "https://localhost:8080/",
          "height": 283
        },
        "id": "O2B-mydGelGI",
        "outputId": "0dacb060-3e1a-4cff-f4a0-0e10a0813294"
      },
      "outputs": [
        {
          "output_type": "execute_result",
          "data": {
            "text/plain": [
              "<matplotlib.axes._subplots.AxesSubplot at 0x7f878a4abb10>"
            ]
          },
          "metadata": {},
          "execution_count": 7
        },
        {
          "output_type": "display_data",
          "data": {
            "text/plain": [
              "<Figure size 432x288 with 1 Axes>"
            ],
            "image/png": "[encoded data removed]"
          },
          "metadata": {
            "needs_background": "light"
          }
        }
      ],
      "source": [
        "# Visualización del indice de materialidad a traves de un boxplot realizado con el plot de la libreria de pandas\n",
        "Censo_Filtrado[\"Indice_mat\"].plot(kind='box')"
      ],
      "id": "O2B-mydGelGI"
    },
    {
      "cell_type": "markdown",
      "source": [
        "El índice de materialidad descrito concuerda con los datos, ya que nos muestra que cerca del 90% de las manzanas cuentan con materialidad aceptable."
      ],
      "metadata": {
        "id": "fc3y56ItMbwH"
      },
      "id": "fc3y56ItMbwH"
    },
    {
      "cell_type": "markdown",
      "metadata": {
        "id": "_9TMRNGmBEXo"
      },
      "source": [
        "### Distribución de viviendas\n",
        "Un atributo que podría ayudar a predecir la categoría de una manzana es su porcentaje de viviendas que son colectivas y las que no son. Sin embargo se puede observar que el número de viviendas colectivas registradas son muy pequeñas en comparación, por lo que habría muy pocos datos para que un clasificador usara este atributo como diferenciador."
      ],
      "id": "_9TMRNGmBEXo"
    },
    {
      "cell_type": "code",
      "execution_count": null,
      "metadata": {
        "colab": {
          "base_uri": "https://localhost:8080/",
          "height": 749
        },
        "id": "def60c10-6e67-43c8-9dc2-21c98fdc875c",
        "outputId": "c6f4f095-0125-4be2-aea8-2de2d6a057b9"
      },
      "outputs": [
        {
          "output_type": "display_data",
          "data": {
            "text/plain": [
              "<Figure size 720x720 with 1 Axes>"
            ],
            "image/png": "[encoded data removed]"
          },
          "metadata": {
            "needs_background": "light"
          }
        }
      ],
      "source": [
        "import matplotlib.pyplot as plt\n",
        "\n",
        "# Se realiza una suma de todos los valores de la columnas con el proposito de observar las diferencias de los totales de cada columnas\n",
        "Censo_Filtrado_totales_plot = pd.DataFrame(Censo_Filtrado.sum(), columns=['Cantidad'])\n",
        "Censo_Filtrado_totales_plot['Tipo'] = Censo_Filtrado.columns.tolist()\n",
        "\n",
        "# Se realiza la visualización de los tipo de viviendas totales contabilizados dentro del Censo con el uso del Plot p\n",
        "plt_censo_total_viv = Censo_Filtrado_totales_plot.iloc[1:4,:].plot(kind = \"bar\", color = 'red', figsize = (10,10))\n",
        "plt.show()"
      ],
      "id": "def60c10-6e67-43c8-9dc2-21c98fdc875c"
    },
    {
      "cell_type": "markdown",
      "metadata": {
        "id": "PaQcFZblBm9A"
      },
      "source": [
        "### Tipos de vivienda\n",
        "Se estima que el tipo de vivienda podría ayudar a predecir la categoría de la manzana, esto tiene sentido si se observa que en un campo o un pueblo pequeño es improbable que hayan departamentos, es decir hay tipos de vivienda que son más comunes en algunas categorías que en otras.\n",
        "\n",
        "Del gráfico de barras se observa que la mayoría de las viviendas en Chile son casas.Se cree que podrían existir casas en muchas categorías distintas sin embargo la distribución de las demás categorías es más pareja y podrían usarse para predecir la categoría de la manzana, por lo tanto se considerarán en la fase experimental."
      ],
      "id": "PaQcFZblBm9A"
    },
    {
      "cell_type": "code",
      "execution_count": null,
      "metadata": {
        "colab": {
          "base_uri": "https://localhost:8080/",
          "height": 757
        },
        "id": "887d0ca6-3a81-40b0-b068-83014fabda4a",
        "outputId": "878ce238-a4d7-44ac-f2a3-d9449257c62c"
      },
      "outputs": [
        {
          "output_type": "display_data",
          "data": {
            "text/plain": [
              "<Figure size 2160x1080 with 1 Axes>"
            ],
            "image/png": "[encoded data removed]"
          },
          "metadata": {
            "needs_background": "light"
          }
        }
      ],
      "source": [
        "# Se realiza una suma de todos los valores de las columnas con el propósito de observar las diferencias de los totales de cada columna\n",
        "Censo_Filtrado_totales_plot = pd.DataFrame(Censo_Filtrado.sum(), columns=['Cantidad'])\n",
        "Censo_Filtrado_totales_plot['Tipo'] = Censo_Filtrado.columns.tolist()\n",
        "\n",
        "# Se realiza la visualización de los tipos de viviendas totales contabilizados dentro del Censo con el uso del Plot propio de Pandas\n",
        "plt_censo_total_tipo_viv = Censo_Filtrado_totales_plot.iloc[5:12,:].plot.barh(y = \"Cantidad\", color='red', figsize=((30,15)))\n",
        "plt.show()"
      ],
      "id": "887d0ca6-3a81-40b0-b068-83014fabda4a"
    },
    {
      "cell_type": "markdown",
      "source": [
        "Se observa que las viviendas de tipo casa se imponen sobre las otras con gran mayoría (alrededor del 80% de los datos)."
      ],
      "metadata": {
        "id": "3L8SIdsgLpjv"
      },
      "id": "3L8SIdsgLpjv"
    },
    {
      "cell_type": "markdown",
      "metadata": {
        "id": "lDWaeV_HDyVn"
      },
      "source": [
        "### Recuperabilidad de los materiales\n",
        "Gracias a las definiciones del manual del CENSO sabemos que existe una posible relación entre la recuperabilidad de los materiales y la categoría de la manzana, sabemos que por definición si una manzana contiene materiales de tierra es más probable que su condición de materialidad sea irrecuperable, se estima que tener pisos de tierra podría implicar que la manzana pertenece a ciertas categorías y no a otras por ejemplo es más probable que en una ciudad haya más pavimentación que en un campo y por lo tanto menos porcentaje de pisos de tierra."
      ],
      "id": "lDWaeV_HDyVn"
    },
    {
      "cell_type": "code",
      "execution_count": null,
      "metadata": {
        "colab": {
          "base_uri": "https://localhost:8080/",
          "height": 285
        },
        "id": "0201ad85-6cf6-4d0d-b991-03f672fb4edf",
        "outputId": "584a406a-d907-469f-87d0-33d8e4d53ed6"
      },
      "outputs": [
        {
          "output_type": "display_data",
          "data": {
            "text/plain": [
              "<Figure size 2160x360 with 1 Axes>"
            ],
            "image/png": "[encoded data removed]"
          },
          "metadata": {
            "needs_background": "light"
          }
        }
      ],
      "source": [
        "# Se realiza una suma de todos los valores de las columnas con el propósito de observar las diferencias de los totales de cada columna\n",
        "Censo_Filtrado_totales_plot = pd.DataFrame(Censo_Filtrado.sum(), columns=['Cantidad'])\n",
        "Censo_Filtrado_totales_plot['Tipo'] = Censo_Filtrado.columns.tolist()\n",
        "\n",
        "# Se realiza la visualización de la clasificación con respecto a la aceptabilidad de los materiales de construcción usados en los hogares que recibieron los hogares Censados, \n",
        "# esto a través del método Plot propio de Pandas\n",
        "plt_censo_total_rec_mat = Censo_Filtrado_totales_plot.iloc[30:33,:].plot.barh(y = \"Cantidad\", color='red', figsize=((30,5)))\n",
        "plt.show()"
      ],
      "id": "0201ad85-6cf6-4d0d-b991-03f672fb4edf"
    },
    {
      "cell_type": "markdown",
      "source": [
        "Del gráfico de barras se desprende que la mayoría de las manzanas cuentan con una materialidad aceptable."
      ],
      "metadata": {
        "id": "vz9r03m-Les1"
      },
      "id": "vz9r03m-Les1"
    },
    {
      "cell_type": "markdown",
      "metadata": {
        "id": "Jla5VDlCFVrf"
      },
      "source": [
        "### Origen del agua\n",
        "Se cree que los atributos asociados al origen del agua pueden estar fuertemente asociados a la categoría de la manzana por el hecho de que si el origen del agua es vertiente o pozo podría ser un fuerte indicador de que la manzana es un campo o caserío."
      ],
      "id": "Jla5VDlCFVrf"
    },
    {
      "cell_type": "code",
      "execution_count": null,
      "metadata": {
        "colab": {
          "base_uri": "https://localhost:8080/",
          "height": 481
        },
        "id": "1f23184d-6704-4476-9139-b578cf3e7fbd",
        "outputId": "93c2caef-3b88-4a33-811d-e560d93f69c8"
      },
      "outputs": [
        {
          "output_type": "display_data",
          "data": {
            "text/plain": [
              "<Figure size 2160x720 with 1 Axes>"
            ],
            "image/png": "[encoded data removed]"
          },
          "metadata": {
            "needs_background": "light"
          }
        }
      ],
      "source": [
        "Censo_Filtrado_totales_plot = pd.DataFrame(Censo_Filtrado.sum(), columns=['Cantidad'])\n",
        "Censo_Filtrado_totales_plot['Tipo'] = Censo_Filtrado.columns.tolist()\n",
        "\n",
        "# Se realiza una visualización del Origen de Agua de cada Manzana dentro del Censo  \n",
        "plt_censo_total_fuente_agua = Censo_Filtrado_totales_plot.iloc[33:37,:].plot.barh(y = \"Cantidad\", color='red', figsize=((30,10)))\n",
        "plt.show()"
      ],
      "id": "1f23184d-6704-4476-9139-b578cf3e7fbd"
    },
    {
      "cell_type": "markdown",
      "source": [
        "Posteriormente se utiliza un gráfico tipo torta para representar de mejor manera el origen del agua en las distintas manzanas."
      ],
      "metadata": {
        "id": "jsg22uC0PsIh"
      },
      "id": "jsg22uC0PsIh"
    },
    {
      "cell_type": "code",
      "execution_count": null,
      "metadata": {
        "id": "a2ef9203-e60a-4491-b58b-1948022f1b5b",
        "colab": {
          "base_uri": "https://localhost:8080/",
          "height": 303
        },
        "outputId": "701ba17e-bc7b-4324-b6f9-a86470b0aa83"
      },
      "outputs": [
        {
          "output_type": "display_data",
          "data": {
            "text/plain": [
              "<Figure size 360x360 with 1 Axes>"
            ],
            "image/png": "[encoded data removed]"
          },
          "metadata": {}
        }
      ],
      "source": [
        "#Se suman los datos por columna\n",
        "Censo_Filtrado_totales_plot = pd.DataFrame(Censo_Filtrado.sum(), columns=['Cantidad'])\n",
        "Censo_Filtrado_totales_plot['Tipo'] = Censo_Filtrado.columns.tolist()\n",
        "myexplode = [0, 0.2, 0.4, 0.6]\n",
        "\n",
        "# Se visualiza los porcentajes de consumo de agua, tomando en consideración si el origen de esta \n",
        "plt_censo_total_fuente_agua = Censo_Filtrado_totales_plot.iloc[33:37,:].plot.pie(y=\"Cantidad\", figsize=((5,5)), autopct='%1.1f%%', startangle=0, explode = myexplode)\n",
        "plt.show()"
      ],
      "id": "a2ef9203-e60a-4491-b58b-1948022f1b5b"
    },
    {
      "cell_type": "markdown",
      "source": [
        "Del gráfico se obtiene una mejor visión de la distribución del origen del agua, de aquí se desprende que según los datos, la mayoría del agua provista a las manzanas viene de la red pública, aunque no indica si la calidad es rural o urbana."
      ],
      "metadata": {
        "id": "fdQUjTpbMwDf"
      },
      "id": "fdQUjTpbMwDf"
    },
    {
      "cell_type": "markdown",
      "metadata": {
        "id": "7bab6aa0-94da-41bb-8972-2111e4fcbc40"
      },
      "source": [
        "# Preguntas y Problemas\n",
        "\n",
        "Una de las principales preguntas a resolver es la posibilidad de predecir la clase categoría de la manzana, lo cual permitiría mejorar la calidad de los datos existentes dentro del dataset.\n",
        "\n",
        "Otro problema que se quiere abordar es tratar de crear un índice que refleje la calidad de los materiales, esto lo hicimos en la etapa experimental y le llamamos INDICE_MAT.\n",
        "\n",
        "Por último se cree que con estos atributos elegidos es posible predecir otras clases en las que se clasifican las manzanas, por ejemplo si es rural o urbano, esto podría acelerar el proceso de censado del país.\n"
      ],
      "id": "7bab6aa0-94da-41bb-8972-2111e4fcbc40"
    },
    {
      "cell_type": "markdown",
      "source": [
        "#Propuesta Experimental\n"
      ],
      "metadata": {
        "id": "t6i1eBNVxBRm"
      },
      "id": "t6i1eBNVxBRm"
    },
    {
      "cell_type": "markdown",
      "source": [
        "En esta sección se implementará la primera pregunta planteada que busca predecir la categoría de la manzana. Para ello lo que se hará es entrenar el subconjunto de datos que posea una categoría definida, para luego predecir la categoría de las filas las cuales poseen valor indeterminado de aquel atributo."
      ],
      "metadata": {
        "id": "MyL1vuhB0oRr"
      },
      "id": "MyL1vuhB0oRr"
    },
    {
      "cell_type": "code",
      "execution_count": null,
      "metadata": {
        "id": "JwEAymr8lJfh"
      },
      "outputs": [],
      "source": [
        "#Se crea un subset modificando el original, eliminado la clase.\n",
        "Censo_Filtrado_variables_significativas = Censo_Filtrado.iloc[:,0:-2]"
      ],
      "id": "JwEAymr8lJfh"
    },
    {
      "cell_type": "markdown",
      "source": [
        "Se crea un subconjunto de manzanas que poseen categoría definida, luego se dividen en dos secciones, las que corresponden a la de datos (X) y la de clase (y). Es importante tener en cuenta que la proporción de manzanas con categoría indeterminada es mucho mayor a las que poseen categoría definida, lo que producirá un cierto sesgo en sus resultados."
      ],
      "metadata": {
        "id": "LiQfWdNk4jgY"
      },
      "id": "LiQfWdNk4jgY"
    },
    {
      "cell_type": "code",
      "execution_count": null,
      "metadata": {
        "id": "f7977abe-ae3f-4aeb-a175-dfe70551f2a7"
      },
      "outputs": [],
      "source": [
        "# Se realiza el filtro de todos las filas que poseen valores indeterminados\n",
        "Censo_Filtrado_sin_indeterminadas = Censo_Filtrado_variables_significativas.loc[Censo_Filtrado['NOM_CAT_ENT'] != \"Indeterminada\"]\n",
        "X = Censo_Filtrado_sin_indeterminadas.loc[:, Censo_Filtrado_sin_indeterminadas.columns != 'NOM_CAT_ENT'].values\n",
        "y = Censo_Filtrado_sin_indeterminadas['NOM_CAT_ENT'].values"
      ],
      "id": "f7977abe-ae3f-4aeb-a175-dfe70551f2a7"
    },
    {
      "cell_type": "markdown",
      "source": [
        "Luego se divide tal subconjunto en datos de entrenamiento y datos de prueba, de forma aleatoria y estratificada, utilizando una proporción de 70/30 respectivamente."
      ],
      "metadata": {
        "id": "2NdhLnS45tYp"
      },
      "id": "2NdhLnS45tYp"
    },
    {
      "cell_type": "code",
      "execution_count": null,
      "metadata": {
        "id": "DHpvY96Fs1uV"
      },
      "outputs": [],
      "source": [
        "#Se cargan las bibliotecas necesarias para crear un set de entrenamiento y testeo y posterior creación del modelo.\n",
        "from sklearn.model_selection import train_test_split\n",
        "from sklearn.tree import DecisionTreeClassifier\n",
        "from sklearn.metrics import classification_report\n",
        "from sklearn.metrics import accuracy_score\n",
        "\n",
        "# Creación de un set de entrenamiento y testeo con una proporción de 30% entrenamiento y 70% testeo\n",
        "X_train, X_test, y_train, y_test = train_test_split(X, y, test_size=.30,\n",
        "                                                    random_state=40, stratify=y)"
      ],
      "id": "DHpvY96Fs1uV"
    },
    {
      "cell_type": "markdown",
      "source": [
        "En esta sección se entrenan los datos utilizando el algoritmo de clasificación correspondiente al Decision Tree, para luego validar su grado de precisión. A partir del reporte de clasificación, se observa que las clases \"Aldea\", \"Parcela de Agrado\" y \"Parcela-Hijuela\" poseen un grado de precisión sobre el 50%."
      ],
      "metadata": {
        "id": "dP4c44np5_u6"
      },
      "id": "dP4c44np5_u6"
    },
    {
      "cell_type": "code",
      "execution_count": null,
      "metadata": {
        "id": "1ZKQnsXUs4Zf",
        "colab": {
          "base_uri": "https://localhost:8080/"
        },
        "outputId": "b62a5a56-c20c-4d2b-ec6d-5d13502158e6"
      },
      "outputs": [
        {
          "output_type": "stream",
          "name": "stdout",
          "text": [
            "Accuracy en test set: 0.4913158260386272\n",
            "                         precision    recall  f1-score   support\n",
            "\n",
            "                  Aldea       0.62      0.60      0.61       218\n",
            "    Asentamiento Minero       0.33      0.31      0.32        75\n",
            "  Asentamiento Pesquero       0.36      0.43      0.39        75\n",
            "             Campamento       0.00      0.00      0.00        16\n",
            "                Caserío       0.39      0.39      0.39      1101\n",
            "     Comunidad Indígena       0.37      0.38      0.37       647\n",
            "Fundo-Estancia-Hacienda       0.40      0.54      0.46      1029\n",
            "                  Otros       0.12      0.03      0.05        91\n",
            "      Parcela de Agrado       0.51      0.55      0.53       490\n",
            "        Parcela-Hijuela       0.60      0.54      0.57      3307\n",
            " Veranada-Majada-Aguada       0.39      0.30      0.34       148\n",
            "\n",
            "               accuracy                           0.49      7197\n",
            "              macro avg       0.37      0.37      0.37      7197\n",
            "           weighted avg       0.50      0.49      0.49      7197\n",
            "\n"
          ]
        }
      ],
      "source": [
        "clf_orig = DecisionTreeClassifier()\n",
        "clf_orig.fit(X_train, y_train)  ## Se entrena con features X_train y clases y_train\n",
        "y_pred = clf_orig.predict(X_test)  ## Se predicen con nuevos datos a partir de X_test\n",
        "print(\"Accuracy en test set:\", accuracy_score(y_test, y_pred))   ## Se evalúa la predicción comparando y_test con y_pred\n",
        "print(classification_report(y_test, y_pred))  #Se muestra el reporte de clasificación"
      ],
      "id": "1ZKQnsXUs4Zf"
    },
    {
      "cell_type": "markdown",
      "source": [
        "## Resultados preliminares ##\n",
        "\n",
        "Se utilizará el modelo definido anteriormente para predecir la categoría de los datos indeterminados obteniendo así una primera pincelada de la eficacia del modelo."
      ],
      "metadata": {
        "id": "OByq0dnfMzI5"
      },
      "id": "OByq0dnfMzI5"
    },
    {
      "cell_type": "code",
      "source": [
        "clase = \"NOM_CAT_ENT\"\n",
        "\n",
        "# Con el modelo entrenado se utilizan las filas con valores Indeterminados para realizar la predicción con el modelo entrenado\n",
        "Censo_Filtrado_con_indeterminadas = Censo_Filtrado_variables_significativas.loc[Censo_Filtrado[clase] == \"Indeterminada\"]\n",
        "X_indeterm = Censo_Filtrado_con_indeterminadas.loc[:, Censo_Filtrado_con_indeterminadas.columns != clase]\n",
        "y_pred_indeterm = clf_orig.predict(X_indeterm.values)\n",
        "X_indeterm[\"NOM_CAT_ENT\"] = y_pred_indeterm"
      ],
      "metadata": {
        "id": "if73-XiB-zVA"
      },
      "id": "if73-XiB-zVA",
      "execution_count": null,
      "outputs": []
    },
    {
      "cell_type": "markdown",
      "source": [
        "## Histograma de categoría ##\n",
        "\n",
        "Se utiliza una visualización de tipo histograma para comprobar la distribución de los datos predecidos por el modelo, de esta forma nos aseguramos que se asemeja al rendimiento esperado."
      ],
      "metadata": {
        "id": "OZ71yaW1NJb0"
      },
      "id": "OZ71yaW1NJb0"
    },
    {
      "cell_type": "code",
      "source": [
        "# Visualización de la predicción realizada\n",
        "X_indeterm[\"NOM_CAT_ENT\"].value_counts().plot(kind='bar', figsize=(30,10), fontsize=20)"
      ],
      "metadata": {
        "colab": {
          "base_uri": "https://localhost:8080/",
          "height": 779
        },
        "id": "Vjxkb14UDUWl",
        "outputId": "f1bada13-3875-47cc-9b98-c90ac8adcd0c"
      },
      "id": "Vjxkb14UDUWl",
      "execution_count": null,
      "outputs": [
        {
          "output_type": "execute_result",
          "data": {
            "text/plain": [
              "<matplotlib.axes._subplots.AxesSubplot at 0x7f878a144c90>"
            ]
          },
          "metadata": {},
          "execution_count": 18
        },
        {
          "output_type": "display_data",
          "data": {
            "text/plain": [
              "<Figure size 2160x720 with 1 Axes>"
            ],
            "image/png": "[encoded data removed]"
          },
          "metadata": {
            "needs_background": "light"
          }
        }
      ]
    },
    {
      "cell_type": "markdown",
      "source": [
        "## Conclusión ##\n",
        "En base al experimento realizado se observa que la capacidad de predicción del modelo en base a los atributos elegidos alcanza alrededor del 60%, lo cual indica que el modelo es favorable y cumple con acertar más del 50% de las predicciones. Al revisar la predicción de datos no controlados, se observa una tendencia a clasificar sectores rurales, lo cual tiene relevancia ya que es lógicamente probable que esas zonas de difícil acceso no hayan sido catalogadas, no así la ciudad la cual tiene menos incidencia según el modelo. Se considera que este experimento cumple las expectativas de un modelo que vale la pena seguir optimizando para posteriormente ser utilizado en el estudio del CENSO."
      ],
      "metadata": {
        "id": "EJayUfbBIMm1"
      },
      "id": "EJayUfbBIMm1"
    },
    {
      "cell_type": "markdown",
      "metadata": {
        "id": "MCHnkf47RZXQ"
      },
      "source": [
        "## Referencias ##\n"
      ],
      "id": "MCHnkf47RZXQ"
    },
    {
      "cell_type": "markdown",
      "metadata": {
        "id": "qTGz7axmpA0c"
      },
      "source": [
        "https://redatam-ine.ine.cl/manuales/Manual-Usuario.pdf\n",
        "\n",
        "https://pandas.pydata.org/\n",
        "\n",
        "https://pandas.pydata.org/docs/reference/api/pandas.DataFrame.plot.html\n",
        "\n",
        "https://pandas.pydata.org/docs/reference/api/pandas.DataFrame.describe.html\n",
        "\n",
        "https://pandas.pydata.org/docs/reference/api/pandas.DataFrame.hist.html\n",
        "\n",
        "https://pandas.pydata.org/docs/reference/api/pandas.DataFrame.iloc.html\n",
        "\n",
        "https://pandas.pydata.org/docs/reference/api/pandas.DataFrame.plot.barh.html\n",
        "\n",
        "https://towardsdatascience.com/reshaping-a-pandas-dataframe-long-to-wide-and-vice-versa-517c7f0995ad#:~:text=To%20summarize%2C%20if%20you%20need,melt()%20.\n",
        "\n",
        "https://sparkbyexamples.com/pandas/pandas-set-index-to-column-in-dataframe/\n",
        "\n",
        "https://www.w3schools.com/python/matplotlib_pie_charts.asp\n",
        "\n",
        "https://www.w3schools.com/python/pandas/pandas_plotting.asp\n",
        "\n",
        "https://www.geeksforgeeks.org/change-figure-size-in-pandas-python/\n",
        "\n",
        "https://www.geeksforgeeks.org/adding-new-column-to-existing-dataframe-in-pandas/\n",
        "\n",
        "https://stackoverflow.com/questions/55240330/how-to-read-csv-file-from-github-using-pandas\n",
        "\n",
        "https://stackoverflow.com/questions/16459217/in-pandas-how-can-i-get-a-dataframe-as-the-output-while-i-sum-the-dataframe\n",
        "\n",
        "https://stackoverflow.com/questions/41286569/get-total-of-pandas-column\n",
        "\n",
        "https://stackoverflow.com/questions/61690632/why-pandas-dataframe-sumaxis-0-returns-sum-of-values-in-each-column-where-axis\n",
        "\n",
        "https://stackoverflow.com/questions/25748683/pandas-sum-dataframe-rows-for-given-columns\n",
        "\n",
        "https://stackoverflow.com/questions/56010449/selecting-columns-axes-for-correlation-from-pandas-df\n",
        "\n",
        "https://stackoverflow.com/questions/34682828/extracting-specific-selected-columns-to-new-dataframe-as-a-copy\n",
        "\n",
        "https://stackoverflow.com/questions/11285613/selecting-multiple-columns-in-a-pandas-dataframe\n",
        "\n",
        "https://stackoverflow.com/questions/26414913/normalize-columns-of-a-dataframe\n",
        "\n",
        "https://stackoverflow.com/questions/25050141/how-to-filter-in-nan-pandas\n",
        "\n",
        "https://stackoverflow.com/questions/14942681/change-size-of-axes-title-and-labels-in-ggplot2"
      ],
      "id": "qTGz7axmpA0c"
    },
    {
      "cell_type": "markdown",
      "source": [
        "## Declaración de autoria ##\n",
        "\n",
        "Arturo Avendaño - Realización de PDF, conclusión, referencias, histograma de categoría, corrección de errores, introducción y preguntas de investigación, corrección de ortografía."
      ],
      "metadata": {
        "id": "OtiySiJrNnDt"
      },
      "id": "OtiySiJrNnDt"
    },
    {
      "cell_type": "markdown",
      "source": [
        "Alonso Rojas - Analisis exploratorio correctivo, normalizacion de datos, histogramas distribucion fuente de agua, tipo de vivienda, ocupacion de vivienda, redaccion analisis graficos, redaccion analisis exploratorio."
      ],
      "metadata": {
        "id": "VJUZb98XOvGN"
      },
      "id": "VJUZb98XOvGN"
    },
    {
      "cell_type": "markdown",
      "source": [
        "Kianush Atighi-Moghaddam - Índice de materialidad por manzana, propuesta experimental, resultados preliminares, gráfico de boxplot sobre índice de materialidad"
      ],
      "metadata": {
        "id": "AGeU6a6KTNL-"
      },
      "id": "AGeU6a6KTNL-"
    }
  ],
  "metadata": {
    "colab": {
      "collapsed_sections": [],
      "provenance": []
    },
    "kernelspec": {
      "display_name": "Python 3 (ipykernel)",
      "language": "python",
      "name": "python3"
    },
    "language_info": {
      "codemirror_mode": {
        "name": "ipython",
        "version": 3
      },
      "file_extension": ".py",
      "mimetype": "text/x-python",
      "name": "python",
      "nbconvert_exporter": "python",
      "pygments_lexer": "ipython3",
      "version": "3.10.5"
    }
  },
  "nbformat": 4,
  "nbformat_minor": 5
}